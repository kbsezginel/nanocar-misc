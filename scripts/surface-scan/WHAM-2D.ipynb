{
 "cells": [
  {
   "cell_type": "code",
   "execution_count": 1,
   "metadata": {
    "collapsed": true
   },
   "outputs": [],
   "source": [
    "import os\n",
    "from thermof.read import read_log, read_thermo\n",
    "import numpy as np\n",
    "from wham2d import *\n",
    "import matplotlib.pyplot as plt\n",
    "%matplotlib inline"
   ]
  },
  {
   "cell_type": "code",
   "execution_count": null,
   "metadata": {
    "collapsed": true
   },
   "outputs": [],
   "source": [
    "thermo_headers = 'Step Temp Press TotEng E_pair E_mol Fmax Fnorm c_C1[1] c_C1[2] c_C1[3]'\n",
    "thermo_keys = ['step', 'temp', 'press', 'etotal', 'epair', 'emol', 'fmax', 'fnorm', 'x', 'y', 'z']"
   ]
  },
  {
   "cell_type": "code",
   "execution_count": null,
   "metadata": {
    "collapsed": true
   },
   "outputs": [],
   "source": [
    "scandir = 'data/scan2'\n",
    "scanlist = [os.path.join(scandir, i) for i in os.listdir(scandir)]\n",
    "whamdir = os.path.abspath('wham')"
   ]
  },
  {
   "cell_type": "markdown",
   "metadata": {},
   "source": [
    "### Write 2D WHAM time series files"
   ]
  },
  {
   "cell_type": "code",
   "execution_count": null,
   "metadata": {
    "collapsed": true
   },
   "outputs": [],
   "source": [
    "start_pos = {}\n",
    "for simdir in scanlist:\n",
    "    logfile = os.path.join(simdir, 'log.HtBDC_Cu110')\n",
    "    try:\n",
    "        _, xi, yi = [int(i) for i in os.path.basename(simdir).split('-')]\n",
    "        thermo_data = read_log(logfile, headers=thermo_headers)\n",
    "        thermo = read_thermo(thermo_data, headers=thermo_keys)[0]\n",
    "        # Write time series files\n",
    "        timeseriesfile = os.path.join(whamdir, 'data', '%i-%i-2d.dat' % (xi ,yi))\n",
    "        time = timesteps_to_time(thermo['step'], dt=1, conversion=1e-3)  # femtosecond -> picosecond\n",
    "        write_timeseries_file(timeseriesfile, time, thermo['x'], thermo['y'])\n",
    "        for drx in ['x', 'y']:\n",
    "            # Record starting position (min energy pos)\n",
    "            start_pos['%i-%i-%s' % (xi ,yi, drx)] = thermo[drx][0]\n",
    "    except Exception as e:\n",
    "        print(e, logfile)"
   ]
  },
  {
   "cell_type": "markdown",
   "metadata": {},
   "source": [
    "### Write 2D WHAM input files"
   ]
  },
  {
   "cell_type": "code",
   "execution_count": null,
   "metadata": {
    "collapsed": true
   },
   "outputs": [],
   "source": [
    "nx, ny = 19, 14\n",
    "tsfiles, mins_x, mins_y = [], [], []\n",
    "for ypos in range(ny):\n",
    "    for xpos in range(nx):\n",
    "        tsfiles.append(os.path.join(whamdir, 'data', '%i-%i-2d.dat' % (xpos ,ypos)))\n",
    "        mins_x.append(start_pos['%i-%i-x' % (xpos ,ypos)])\n",
    "        mins_y.append(start_pos['%i-%i-y' % (xpos ,ypos)])\n",
    "\n",
    "datafile = os.path.join(whamdir, 'wham-2d', 'wham-2d.in')\n",
    "spring_k = [5.0] * len(tsfiles)\n",
    "write_data_file(datafile, tsfiles, mins_x, mins_y, spring_k, spring_k)"
   ]
  },
  {
   "cell_type": "markdown",
   "metadata": {},
   "source": [
    "### Run 2D WHAM"
   ]
  },
  {
   "cell_type": "code",
   "execution_count": null,
   "metadata": {
    "collapsed": true
   },
   "outputs": [],
   "source": [
    "hist_min_x, hist_max_x = 21.582, 25.182\n",
    "hist_min_y, hist_max_y = 22.8912, 25.4912\n",
    "bin_size = 0.1\n",
    "num_bins_x = int(np.ceil((hist_max_x - hist_min_x) / bin_size))\n",
    "num_bins_y = int(np.ceil((hist_max_y - hist_min_y) / bin_size))\n",
    "Px, Py = 'Px=0', 'Py=0'\n",
    "tolerance = 1e-5\n",
    "temperature = 200\n",
    "numpad = 0\n",
    "use_mask = 0\n",
    "wham_exec = '/home/kutay/Documents/Research/Software/wham/wham-2d/wham-2d'\n",
    "outfile = os.path.join(whamdir, 'wham-2d', 'wham-2d.out')\n",
    "wham_args = [wham_exec, Px, hist_min_x, hist_max_x, num_bins_x, Py, hist_min_y, hist_max_y, num_bins_y, tolerance, temperature, numpad, datafile, outfile, use_mask]"
   ]
  },
  {
   "cell_type": "code",
   "execution_count": null,
   "metadata": {
    "collapsed": true
   },
   "outputs": [],
   "source": [
    "data = run_wham(wham_args)"
   ]
  },
  {
   "cell_type": "code",
   "execution_count": null,
   "metadata": {
    "collapsed": true
   },
   "outputs": [],
   "source": [
    "xbins = [round(i, 4) for i in np.arange(min(data['x']), max(data['x']) + bin_size * 0.5, bin_size)]\n",
    "ybins = [round(i, 4) for i in np.arange(min(data['y']), max(data['y']) + bin_size * 0.5, bin_size)]\n",
    "matrixdata = np.zeros((len(xbins), len(ybins)))"
   ]
  },
  {
   "cell_type": "code",
   "execution_count": null,
   "metadata": {
    "collapsed": true
   },
   "outputs": [],
   "source": [
    "for idx, free in enumerate(data['free']):\n",
    "    x_idx = xbins.index(data['x'][idx])\n",
    "    y_idx = ybins.index(data['y'][idx])\n",
    "    matrixdata[x_idx][y_idx] = free"
   ]
  },
  {
   "cell_type": "code",
   "execution_count": null,
   "metadata": {},
   "outputs": [],
   "source": [
    "plt.imshow(matrixdata.T, origin='lower')\n",
    "plt.colorbar()"
   ]
  }
 ],
 "metadata": {
  "kernelspec": {
   "display_name": "Python 3",
   "language": "python",
   "name": "python3"
  },
  "language_info": {
   "codemirror_mode": {
    "name": "ipython",
    "version": 3
   },
   "file_extension": ".py",
   "mimetype": "text/x-python",
   "name": "python",
   "nbconvert_exporter": "python",
   "pygments_lexer": "ipython3",
   "version": "3.5.2"
  }
 },
 "nbformat": 4,
 "nbformat_minor": 1
}
