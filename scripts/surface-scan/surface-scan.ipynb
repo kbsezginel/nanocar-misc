{
 "cells": [
  {
   "cell_type": "code",
   "execution_count": 1,
   "metadata": {
    "collapsed": true
   },
   "outputs": [],
   "source": [
    "import os, shutil\n",
    "import numpy as np\n",
    "from angstrom import Molecule, Trajectory\n",
    "from copy import deepcopy\n",
    "from surface_scan import read_datafile, get_lammps_data_lines, change_coordinates, write_job_file, write_spring_input"
   ]
  },
  {
   "cell_type": "markdown",
   "metadata": {},
   "source": [
    "### Select scanning location"
   ]
  },
  {
   "cell_type": "code",
   "execution_count": null,
   "metadata": {
    "collapsed": true
   },
   "outputs": [],
   "source": [
    "start = [21.582, 22.8912, 13]\n",
    "ydist = (25.4346 - 22.8912)\n",
    "# ydist = 0\n",
    "# xdist = (25.179 - 21.582)\n",
    "xdist = 0\n",
    "dx, dy = 0.5, 0.1"
   ]
  },
  {
   "cell_type": "code",
   "execution_count": null,
   "metadata": {},
   "outputs": [],
   "source": [
    "xpos = np.arange(start[0], start[0] + xdist + dx, dx)\n",
    "ypos = np.arange(start[1], start[1] + ydist + dy, dy)\n",
    "print('x: %i points | y: %i points | Total: %i points' % (len(xpos), len(ypos), len(xpos) * len(ypos)))"
   ]
  },
  {
   "cell_type": "markdown",
   "metadata": {},
   "source": [
    "### Read data file\n",
    "Atomic coordinates will be used to move the molecule along the surface"
   ]
  },
  {
   "cell_type": "code",
   "execution_count": null,
   "metadata": {
    "collapsed": true
   },
   "outputs": [],
   "source": [
    "scandir = '/home/kutay/Documents/git/Nanocar/scripts/surface-scan/lammps'\n",
    "srcdir = '/home/kutay/Documents/git/Nanocar/scripts/surface-scan/HtBDC_Cu110'\n",
    "datafile = os.path.join(srcdir, 'data.HtBDC_Cu110')\n",
    "# infile = os.path.join(srcdir, 'in.HtBDC_Cu110_min')\n",
    "# infile = os.path.join(srcdir, 'in.HtBDC_Cu110_spring')\n",
    "infile = os.path.join(srcdir, 'in.HtBDC_Cu110_rigid_spring')\n",
    "jobfile = os.path.join(srcdir, 'job.HtBDC_Cu110')\n",
    "elements = {'1': 'Cu', '2': 'C', '3': 'H', '4': 'C'}\n",
    "atomids, coords = read_datafile(datafile)\n",
    "atoms = [elements[i] for i in atomids]"
   ]
  },
  {
   "cell_type": "markdown",
   "metadata": {
    "collapsed": true
   },
   "source": [
    "### Create Lammps files"
   ]
  },
  {
   "cell_type": "code",
   "execution_count": null,
   "metadata": {
    "collapsed": true
   },
   "outputs": [],
   "source": [
    "# Center molecule to starting position to use as reference\n",
    "mol = Molecule(atoms=atoms, coordinates=coords)\n",
    "mol.center(start)\n",
    "\n",
    "nframes = int(len(xpos) * len(ypos))\n",
    "natoms = len(coords)\n",
    "# Write trajectory to make sure everything is right\n",
    "traj = Trajectory()\n",
    "traj.coordinates = np.empty((nframes, natoms, 3))\n",
    "traj.atoms = np.empty((nframes, natoms), dtype='U2')\n",
    "# Spring constants (x and y is changes for each simulation, z is selected from eq position)\n",
    "SPRING = {'k': 10.0, 'xeq': 0.0, 'yeq': 0.0, 'zeq': 'NULL', 'r0': 0.0}"
   ]
  },
  {
   "cell_type": "code",
   "execution_count": null,
   "metadata": {},
   "outputs": [],
   "source": [
    "idx = 0\n",
    "for yi, y in enumerate(ypos):\n",
    "    for xi, x in enumerate(xpos):\n",
    "        print('\\r%i / %i | x: %.2f | y: %.2f' % (idx + 1, nframes, x, y), end='')\n",
    "        # initialize new directory\n",
    "        simdir = os.path.join(scandir, '%i-%i-%i' % (idx, xi, yi))\n",
    "        os.makedirs(simdir, exist_ok=True)\n",
    "        # position the molecule\n",
    "        newmol = Molecule(atoms=deepcopy(mol.atoms), coordinates=deepcopy(mol.coordinates))\n",
    "        newmol.center([x, y, start[2]])\n",
    "        # create new data file\n",
    "        newdatafile = os.path.join(simdir, 'data.HtBDC_Cu110')\n",
    "        newlines = get_lammps_data_lines(newmol.coordinates, atomids, startid=1401)\n",
    "        change_coordinates(datafile, newdatafile, newlines, start=1464)\n",
    "        # add input file\n",
    "        newinfile = os.path.join(simdir, 'in.HtBDC_Cu110')\n",
    "        # shutil.copy(infile, newinfile)\n",
    "        # Change spring coefficient (use only with spring)\n",
    "        SPRING['xeq'], SPRING['yeq'] = x, y\n",
    "        write_spring_input(infile, newinfile, SPRING, springindex=48)\n",
    "        # add job file\n",
    "        newjobfile = os.path.join(simdir, 'job.HtBDC_Cu110')\n",
    "        write_job_file(jobfile, newjobfile, '%i-%i-%i' % (idx, xi, yi))\n",
    "        # Save frame to trajectory\n",
    "        traj.coordinates[idx] = newmol.coordinates\n",
    "        traj.atoms[idx] = newmol.atoms\n",
    "        idx += 1"
   ]
  },
  {
   "cell_type": "code",
   "execution_count": null,
   "metadata": {
    "collapsed": true
   },
   "outputs": [],
   "source": [
    "traj.write('traj.xyz')"
   ]
  },
  {
   "cell_type": "markdown",
   "metadata": {},
   "source": [
    "### Plot points"
   ]
  },
  {
   "cell_type": "code",
   "execution_count": null,
   "metadata": {
    "collapsed": true
   },
   "outputs": [],
   "source": [
    "import matplotlib.pyplot as plt\n",
    "%matplotlib inline"
   ]
  },
  {
   "cell_type": "code",
   "execution_count": null,
   "metadata": {
    "collapsed": true
   },
   "outputs": [],
   "source": [
    "centers = traj.get_center()"
   ]
  },
  {
   "cell_type": "code",
   "execution_count": null,
   "metadata": {
    "collapsed": true
   },
   "outputs": [],
   "source": [
    "xpos = [i[0] for i in centers]\n",
    "ypos = [i[1] for i in centers]"
   ]
  },
  {
   "cell_type": "code",
   "execution_count": null,
   "metadata": {
    "collapsed": true
   },
   "outputs": [],
   "source": [
    "surfatoms1 = [[21.582, 22.8912], [25.179, 22.8912], [21.582, 25.4346], [25.179, 25.4346]]\n",
    "surfatoms2 = [23.3805, 24.1629]"
   ]
  },
  {
   "cell_type": "code",
   "execution_count": null,
   "metadata": {},
   "outputs": [],
   "source": [
    "plt.scatter(xpos, ypos, alpha=0.9)\n",
    "plt.scatter([i[0] for i in surfatoms1], [i[1] for i in surfatoms1], c='r', alpha=0.9, s=200)\n",
    "plt.scatter(surfatoms2[0], surfatoms2[1], c='r', alpha=0.5, s=200)"
   ]
  },
  {
   "cell_type": "code",
   "execution_count": null,
   "metadata": {
    "collapsed": true
   },
   "outputs": [],
   "source": []
  }
 ],
 "metadata": {
  "kernelspec": {
   "display_name": "Python 3",
   "language": "python",
   "name": "python3"
  },
  "language_info": {
   "codemirror_mode": {
    "name": "ipython",
    "version": 3
   },
   "file_extension": ".py",
   "mimetype": "text/x-python",
   "name": "python",
   "nbconvert_exporter": "python",
   "pygments_lexer": "ipython3",
   "version": "3.5.2"
  }
 },
 "nbformat": 4,
 "nbformat_minor": 1
}
