{
 "cells": [
  {
   "cell_type": "code",
   "execution_count": 1,
   "metadata": {
    "collapsed": true
   },
   "outputs": [],
   "source": [
    "import os, shutil\n",
    "import numpy as np\n",
    "from angstrom import Molecule, Trajectory\n",
    "from angstrom.visualize import show\n",
    "from copy import deepcopy\n",
    "from surface_scan import read_datafile, get_lammps_data_lines, change_coordinates, write_job_file, write_spring_input"
   ]
  },
  {
   "cell_type": "markdown",
   "metadata": {},
   "source": [
    "## Surface Scan\n",
    "This notebook generates LAMMPS input files for Umbrella Sampling of large organic molecules on metal surfaces.\n",
    "\n",
    "The molecule is translated on top of the surface in x and y dimensions with given step size and attached to given position using a spring.\n",
    "For each configuration a LAMMPS simulation is initialized.\n"
   ]
  },
  {
   "cell_type": "markdown",
   "metadata": {},
   "source": [
    "### Set directories and reference files"
   ]
  },
  {
   "cell_type": "code",
   "execution_count": null,
   "metadata": {
    "collapsed": true
   },
   "outputs": [],
   "source": [
    "lammpsdir = '/home/kutay/Documents/git/Nanocar/scripts/surface-scan/lammps'       # Directory to create LAMMPS files\n",
    "srcdir = '/home/kutay/Documents/git/Nanocar/scripts/surface-scan/ref'             # Source directory for reference input files\n",
    "molname = 'HtBDC_Cu110'                                                           # Name of the molecule\n",
    "datafile = os.path.join(srcdir, molname, 'data.%s' % molname)                     # Reference LAMMPS data file\n",
    "infile = os.path.join(srcdir, molname, 'in.%s' % molname)                         # Reference LAMMPS input file\n",
    "jobfile = os.path.join(srcdir, molname, 'job.%s' % molname)                       # Reference job submission file\n",
    "scandir = os.path.join(lammpsdir, molname)\n",
    "os.makedirs(scandir, exist_ok=True)"
   ]
  },
  {
   "cell_type": "markdown",
   "metadata": {},
   "source": [
    "### Select scanning location and step size"
   ]
  },
  {
   "cell_type": "code",
   "execution_count": null,
   "metadata": {},
   "outputs": [],
   "source": [
    "start = [21.582, 22.8912, 13]              # Molecule starting position\n",
    "ydist = (25.4346 - 22.8912)                # Distance to be traveled in y-axis (use 0 for 1D)\n",
    "# xdist = (25.179 - 21.582)                # Distance to be traveled in x-axis (use 0 for 1D)\n",
    "xdist = 0 \n",
    "dx, dy = 0.5, 0.1                          # Step size\n",
    "buffer = 1\n",
    "\n",
    "xpos = np.arange(start[0], start[0] + xdist + dx, dx)\n",
    "ypos = np.arange(start[1] - ydist - buffer, start[1] + ydist * 2 + buffer + dy, dy)\n",
    "print('x: %i points | y: %i points | Total: %i points' % (len(xpos), len(ypos), len(xpos) * len(ypos)))"
   ]
  },
  {
   "cell_type": "markdown",
   "metadata": {},
   "source": [
    "### Read molecule coordinates from LAMMPS data file\n",
    "Read the data file and extract coordinates of the organic molecule and skip the surface atoms.\n",
    "The coordinates of the molecule will be used to move it along the surface."
   ]
  },
  {
   "cell_type": "code",
   "execution_count": null,
   "metadata": {},
   "outputs": [],
   "source": [
    "N_SURF_ATOMS = 1400\n",
    "atomids, atoms, coords = read_datafile(datafile, skip_atoms=N_SURF_ATOMS)\n",
    "mol = Molecule(atoms=atoms, coordinates=coords)\n",
    "print(mol)\n",
    "# Center molecule to starting position to use as reference\n",
    "mol.center(start)\n",
    "\n",
    "nframes = int(len(xpos) * len(ypos))\n",
    "natoms = len(coords)\n",
    "# Write trajectory to make sure everything is right\n",
    "traj = Trajectory()\n",
    "traj.coordinates = np.empty((nframes, natoms, 3))\n",
    "traj.atoms = np.empty((nframes, natoms), dtype='U2')\n",
    "# Spring constants (x and y is changes for each simulation, z is selected from eq position)\n",
    "SPRING = {'k': 200.0, 'xeq': 0.0, 'yeq': 0.0, 'zeq': 'NULL', 'r0': 0.0}"
   ]
  },
  {
   "cell_type": "code",
   "execution_count": null,
   "metadata": {},
   "outputs": [],
   "source": [
    "show(mol)"
   ]
  },
  {
   "cell_type": "markdown",
   "metadata": {},
   "source": [
    "### Initialize LAMMPS files for Umbrella Sampling"
   ]
  },
  {
   "cell_type": "code",
   "execution_count": null,
   "metadata": {},
   "outputs": [],
   "source": [
    "idx = 0\n",
    "for yi, y in enumerate(ypos):\n",
    "    for xi, x in enumerate(xpos):\n",
    "        print('\\r%i / %i | x: %.2f | y: %.2f' % (idx + 1, nframes, x, y), end='')\n",
    "        # initialize new directory\n",
    "        # simdir = os.path.join(scandir, '%i-%i-%i' % (idx, xi, yi))\n",
    "        simdir = os.path.join(scandir, '%i' % idx)\n",
    "        os.makedirs(simdir, exist_ok=True)\n",
    "        # position the molecule\n",
    "        newmol = Molecule(atoms=deepcopy(mol.atoms), coordinates=deepcopy(mol.coordinates))\n",
    "        newmol.center([x, y, start[2]])\n",
    "        # create new data file\n",
    "        newdatafile = os.path.join(simdir, 'data.%s' % molname)\n",
    "        newlines = get_lammps_data_lines(newmol.coordinates, atomids, startid=N_SURF_ATOMS + 1)\n",
    "        change_coordinates(datafile, newdatafile, newlines, skip_atoms=N_SURF_ATOMS)\n",
    "        # add input file\n",
    "        newinfile = os.path.join(simdir, 'in.%s' % molname)\n",
    "        # shutil.copy(infile, newinfile)\n",
    "        # Change spring coefficient (use only with spring)\n",
    "        SPRING['xeq'], SPRING['yeq'] = x, y\n",
    "        write_spring_input(infile, newinfile, SPRING, springindex=49)\n",
    "        # add job file\n",
    "        newjobfile = os.path.join(simdir, 'job.%s' % molname)\n",
    "        write_job_file(jobfile, newjobfile, '%s-%i' % (molname, idx))\n",
    "        # Save frame to trajectory\n",
    "        traj.coordinates[idx] = newmol.coordinates\n",
    "        traj.atoms[idx] = newmol.atoms\n",
    "        idx += 1"
   ]
  },
  {
   "cell_type": "code",
   "execution_count": null,
   "metadata": {
    "collapsed": true
   },
   "outputs": [],
   "source": [
    "traj.write('traj.xyz')"
   ]
  },
  {
   "cell_type": "markdown",
   "metadata": {},
   "source": [
    "### Plot points"
   ]
  },
  {
   "cell_type": "code",
   "execution_count": null,
   "metadata": {
    "collapsed": true
   },
   "outputs": [],
   "source": [
    "import matplotlib.pyplot as plt\n",
    "%matplotlib inline"
   ]
  },
  {
   "cell_type": "code",
   "execution_count": null,
   "metadata": {
    "collapsed": true
   },
   "outputs": [],
   "source": [
    "centers = traj.get_center()"
   ]
  },
  {
   "cell_type": "code",
   "execution_count": null,
   "metadata": {
    "collapsed": true
   },
   "outputs": [],
   "source": [
    "xpos = [i[0] for i in centers]\n",
    "ypos = [i[1] for i in centers]"
   ]
  },
  {
   "cell_type": "code",
   "execution_count": null,
   "metadata": {
    "collapsed": true
   },
   "outputs": [],
   "source": [
    "surfatoms1 = [[21.582, 22.8912], [25.179, 22.8912], [21.582, 25.4346], [25.179, 25.4346]]\n",
    "surfatoms2 = [23.3805, 24.1629]"
   ]
  },
  {
   "cell_type": "code",
   "execution_count": null,
   "metadata": {},
   "outputs": [],
   "source": [
    "plt.scatter(xpos, ypos, alpha=0.9)\n",
    "plt.scatter([i[0] for i in surfatoms1], [i[1] for i in surfatoms1], c='r', alpha=0.9, s=200)\n",
    "plt.scatter(surfatoms2[0], surfatoms2[1], c='r', alpha=0.5, s=200)"
   ]
  },
  {
   "cell_type": "code",
   "execution_count": null,
   "metadata": {
    "collapsed": true
   },
   "outputs": [],
   "source": []
  }
 ],
 "metadata": {
  "kernelspec": {
   "display_name": "Python 3",
   "language": "python",
   "name": "python3"
  },
  "language_info": {
   "codemirror_mode": {
    "name": "ipython",
    "version": 3
   },
   "file_extension": ".py",
   "mimetype": "text/x-python",
   "name": "python",
   "nbconvert_exporter": "python",
   "pygments_lexer": "ipython3",
   "version": "3.5.2"
  }
 },
 "nbformat": 4,
 "nbformat_minor": 1
}
