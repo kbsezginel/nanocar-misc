{
 "cells": [
  {
   "cell_type": "code",
   "execution_count": 1,
   "metadata": {},
   "outputs": [],
   "source": [
    "import os, shutil\n",
    "from lammps_init import *"
   ]
  },
  {
   "cell_type": "markdown",
   "metadata": {},
   "source": [
    "## MD simulations for surface diffusion\n",
    "\n",
    "This notebook generates LAMMPS input files for MD simulation of large organic molecules on metal surfaces.\n",
    "\n",
    "<font color=\"#c1202d\">**NOTE: Make sure you check the reference input and job submission files are correct!**</font>"
   ]
  },
  {
   "cell_type": "markdown",
   "metadata": {},
   "source": [
    "### Set directories"
   ]
  },
  {
   "cell_type": "code",
   "execution_count": null,
   "metadata": {},
   "outputs": [],
   "source": [
    "lammpsdir = '/home/kutay/Documents/git/Nanocar/diffusion/docs/lammps'     # Directory to create LAMMPS files\n",
    "srcdir = '/home/kutay/Documents/git/Nanocar/diffusion/docs/ref'           # Source directory for reference input files"
   ]
  },
  {
   "cell_type": "markdown",
   "metadata": {},
   "source": [
    "### Create a copy of the reference files for sampling"
   ]
  },
  {
   "cell_type": "code",
   "execution_count": null,
   "metadata": {},
   "outputs": [],
   "source": [
    "N_RUNS = 10"
   ]
  },
  {
   "cell_type": "code",
   "execution_count": null,
   "metadata": {},
   "outputs": [],
   "source": [
    "for molname in os.listdir(srcdir):\n",
    "    scandir = os.path.join(lammpsdir, molname)\n",
    "    print('%s with %i runs...' % (molname, N_RUNS))\n",
    "    datafile = os.path.join(srcdir, molname, 'data.%s' % molname)             # Reference LAMMPS data file\n",
    "    infile = os.path.join(srcdir, molname, 'in.%s' % molname)                 # Reference LAMMPS input file\n",
    "    jobfile = os.path.join(srcdir, molname, 'job.%s' % molname)               # Reference job submission file\n",
    "    ref_inp = read_lines(infile)\n",
    "    ref_job = read_lines(jobfile)\n",
    "    for run in range(N_RUNS):\n",
    "        # Create run directory\n",
    "        run_dir = os.path.join(scandir, str(run))\n",
    "        os.makedirs(run_dir, exist_ok=True)\n",
    "\n",
    "        # Change seed number and write inp file\n",
    "        seed_no = 123456 + run\n",
    "        new_inp_lines = change_seed(ref_inp, seed=seed_no)\n",
    "        write_lines(new_inp_lines, os.path.join(run_dir, 'in.%s' % molname))\n",
    "\n",
    "        # Change job name and write job file\n",
    "        new_job_lines = change_job_name(ref_job, job_name='%s-%i' % (molname, run))\n",
    "        write_lines(new_job_lines, os.path.join(run_dir, 'job.%s' % molname))\n",
    "\n",
    "        # Copy data file\n",
    "        shutil.copy(datafile, os.path.join(run_dir, 'data.%s' % molname))\n",
    "        print('%i - seed: %i' % (run, seed_no))"
   ]
  },
  {
   "cell_type": "code",
   "execution_count": null,
   "metadata": {},
   "outputs": [],
   "source": []
  }
 ],
 "metadata": {
  "kernelspec": {
   "display_name": "Python 3",
   "language": "python",
   "name": "python3"
  },
  "language_info": {
   "codemirror_mode": {
    "name": "ipython",
    "version": 3
   },
   "file_extension": ".py",
   "mimetype": "text/x-python",
   "name": "python",
   "nbconvert_exporter": "python",
   "pygments_lexer": "ipython3",
   "version": "3.6.5"
  }
 },
 "nbformat": 4,
 "nbformat_minor": 1
}
