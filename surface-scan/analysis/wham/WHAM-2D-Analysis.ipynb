{
 "cells": [
  {
   "cell_type": "code",
   "execution_count": 1,
   "metadata": {},
   "outputs": [],
   "source": [
    "import os\n",
    "import yaml\n",
    "import numpy as np\n",
    "import matplotlib.pyplot as plt\n",
    "\n",
    "from scipy.stats import norm\n",
    "from scipy.integrate import simps\n",
    "from numpy import trapz\n",
    "\n",
    "from angstrom import Molecule\n",
    "from wham2d import *\n",
    "from dctst import *\n",
    "from wham_plot import *\n",
    "\n",
    "%matplotlib inline"
   ]
  },
  {
   "cell_type": "markdown",
   "metadata": {},
   "source": [
    "## WHAM 2-D\n",
    "Analyze WHAM-2D data."
   ]
  },
  {
   "cell_type": "code",
   "execution_count": null,
   "metadata": {},
   "outputs": [],
   "source": [
    "SCAN = 'DC_Cu110'\n",
    "SCANDIR = '/home/kutay/Documents/git/Nanocar/surface-scan'\n",
    "DATADIR = os.path.join(SCANDIR, 'analysis', 'data')\n",
    "WHAMDIR = os.path.join(SCANDIR, 'analysis', 'wham', 'run2d')\n",
    "HIST = dict(x=(21, 26), y=(22, 26))"
   ]
  },
  {
   "cell_type": "code",
   "execution_count": null,
   "metadata": {},
   "outputs": [],
   "source": [
    "outfile = os.path.join(WHAMDIR, SCAN, 'wham-2d.out')\n",
    "DATA = read_wham_out_list(outfile)"
   ]
  },
  {
   "cell_type": "markdown",
   "metadata": {},
   "source": [
    "### Plot energy barriers"
   ]
  },
  {
   "cell_type": "code",
   "execution_count": null,
   "metadata": {},
   "outputs": [],
   "source": [
    "fplot = []\n",
    "for i, d in enumerate(DATA):\n",
    "    fplot.append(dict(x=d['y'], y=d['free'], xlabel='y (Å)', ylabel='Free energy (kcal/mol)', title='%s | %i : %.2f' % (SCAN, i, d['x'][0]), xlim=HIST['y']))"
   ]
  },
  {
   "cell_type": "code",
   "execution_count": null,
   "metadata": {},
   "outputs": [],
   "source": [
    "plt_file = os.path.join(SCANDIR, 'analysis', 'wham', 'plots', '%s-barriers.png' % SCAN)\n",
    "subplot(wham_plot, fplot, width=6, dpi=300, nrow=5, save=None)"
   ]
  },
  {
   "cell_type": "markdown",
   "metadata": {},
   "source": [
    "### Calculate Boltzmann average activation energy"
   ]
  },
  {
   "cell_type": "code",
   "execution_count": null,
   "metadata": {},
   "outputs": [],
   "source": [
    "fq_star, fq_area = [], []\n",
    "for i, d in enumerate(DATA):\n",
    "    Fd = np.array(d['free'])\n",
    "    Fd[np.isinf(Fd)] = 0\n",
    "    if Fd.sum() != 0.0:\n",
    "        fq_star.append(max(Fd))\n",
    "        fq_area.append(simps(Fd, dx=0.1))\n",
    "        # d['Ea'] = max(Fd)\n",
    "\n",
    "fq_star_avg = calculate_boltzmann_average(fq_star, temperature=200)\n",
    "fq_area_avg = calculate_boltzmann_average(fq_area, temperature=200)\n",
    "print('Min F*: %.3f | Avg. F*: %.3f | Avg. F_area: %.3f' % (min(fq_star), fq_star_avg, fq_area_avg))"
   ]
  },
  {
   "cell_type": "markdown",
   "metadata": {},
   "source": [
    "### Calculate rate and diffusion coefficient\n",
    "\n",
    "$k_{A \\rightarrow B} = \\kappa {\\sqrt{ \\dfrac{1}{2 \\pi M \\beta}}} \\dfrac{ e^{- \\beta F(q^*)} } { \\int e^{- \\beta F(q)}dq } \\ \\ \\rightarrow \\ \\  k_{A \\rightarrow B} = \\kappa \\times 36.377 \\sqrt{\\dfrac{T}{M}} \\dfrac{ e^{- \\beta F(q^*)} } { \\int e^{- \\beta F(q)}dq }  \\Big(\\dfrac{1}{s}\\Big)$\n",
    "\n",
    "$D_s = \\dfrac{1}{2n} \\times k_{A \\rightarrow B} \\times \\lambda^2$"
   ]
  },
  {
   "cell_type": "code",
   "execution_count": null,
   "metadata": {},
   "outputs": [],
   "source": [
    "mol = Molecule(read='/home/kutay/Documents/git/Nanocar/molecules/surface-diffusion/opt/%s.xyz' % SCAN.split('_')[0])\n",
    "mw = mol.get_molecular_weight()       # g / mol"
   ]
  },
  {
   "cell_type": "code",
   "execution_count": null,
   "metadata": {},
   "outputs": [],
   "source": [
    "k_wham = calculate_rate(fq_star_avg, fq_area_avg, mw)\n",
    "d_wham = calculate_diffusion(k_wham, lamda=1)\n",
    "print('k: %.2e 1/s | D: %.2e cm2/s' % (k_wham, d_wham))"
   ]
  },
  {
   "cell_type": "markdown",
   "metadata": {},
   "source": [
    "## Read all SCANs"
   ]
  },
  {
   "cell_type": "code",
   "execution_count": null,
   "metadata": {},
   "outputs": [],
   "source": [
    "ALL_DATA = {}\n",
    "for SCAN in os.listdir(WHAMDIR):\n",
    "    outfile = os.path.join(WHAMDIR, SCAN, 'wham-2d.out')\n",
    "    DATA = read_wham_out_list(outfile)[2:22]  # Limit xrange to 21.5 - 25.3\n",
    "    \n",
    "    fq_star, fq_area, x_wham, scan_ids = [], [], [], []\n",
    "    for i, d in enumerate(DATA):\n",
    "        Fd = np.array(d['free'][7:36])  # Limit yrange to 22.75 - 25.55\n",
    "        Fd[np.isinf(Fd)] = 0\n",
    "        if Fd.sum() != 0.0:\n",
    "            fq_star.append(max(Fd))\n",
    "            fq_area.append(simps(Fd, dx=0.1))\n",
    "            x_wham.append(d['x'][0])\n",
    "            scan_ids.append(i)\n",
    "\n",
    "    fq_star_avg = calculate_boltzmann_average(fq_star, temperature=200)\n",
    "    # Some barriers are discontinous causing wrong area calculations!!!\n",
    "    # fq_area_avg = calculate_boltzmann_average(fq_area, temperature=200)\n",
    "    fq_area_avg = fq_area[np.argsort(fq_star)[0]]\n",
    "    f_min = DATA[scan_ids[np.argsort(fq_star)[0]]]['free'][7:36]  # Energy barrier with smallest F*\n",
    "    f_min_y = DATA[scan_ids[np.argsort(fq_star)[0]]]['y'][7:36]\n",
    "    \n",
    "    mol = Molecule(read='/home/kutay/Documents/git/Nanocar/molecules/surface-diffusion/opt/%s.xyz' % SCAN.split('_')[0])\n",
    "    mw = mol.get_molecular_weight()       # g / mol\n",
    "    \n",
    "    k_wham = calculate_rate(fq_star_avg, fq_area_avg, mw)\n",
    "    d_wham = calculate_diffusion(k_wham, lamda=1)\n",
    "    \n",
    "    ALL_DATA[SCAN] = {'f_star': fq_star_avg, 'f_area': fq_area_avg, 'x': x_wham, 'f_min': f_min, 'f_min_y': f_min_y, 'f_star_x': fq_star, 'k': k_wham, 'd': d_wham, 'mw': mw}\n",
    "\n",
    "#    # Save yaml file for surface plot\n",
    "#     scan_yaml = dict(x=[], y=[], z=[])\n",
    "#     for d in DATA:\n",
    "#         scan_yaml['x'] += d['x']\n",
    "#         scan_yaml['y'] += d['y']\n",
    "#         scan_yaml['z'] += d['free']\n",
    "#     surf_data_file = os.path.join(SCANDIR, 'analysis', 'surface-plot', 'data', '%s-2d-data.yaml' % SCAN)\n",
    "#     with open(surf_data_file, 'w') as yf:\n",
    "#         yaml.dump(scan_yaml, yf)\n",
    "        \n",
    "   # Save energy barriers\n",
    "    fplot = []\n",
    "    for i, d in enumerate(DATA):\n",
    "        fplot.append(dict(x=d['y'][7:36], y=d['free'][7:36], xlabel='y (Å)', ylabel='Free energy (kcal/mol)', title='%s | %i : %.2f' % (SCAN, i, d['x'][0]), xlim=HIST['y']))\n",
    "    plt_file = os.path.join(SCANDIR, 'analysis', 'wham', 'plots', '2D', '%s-barriers.png' % SCAN)\n",
    "    subplot(wham_plot, fplot, width=6, dpi=300, nrow=5, save=plt_file)"
   ]
  },
  {
   "cell_type": "markdown",
   "metadata": {},
   "source": [
    "### Plot minimum energy barrier for each molecule"
   ]
  },
  {
   "cell_type": "code",
   "execution_count": null,
   "metadata": {},
   "outputs": [],
   "source": [
    "fig = plt.figure(figsize=(12, 9), dpi=100)\n",
    "fig.subplots_adjust(hspace=.5, wspace=.25)\n",
    "\n",
    "for i, scan in enumerate(ALL_DATA, start=1):\n",
    "    ax = fig.add_subplot(3, 3, i)\n",
    "    fmin = np.array(ALL_DATA[scan]['f_min'])\n",
    "    fmin[np.isinf(fmin)] = 0\n",
    "    ax.plot(ALL_DATA[scan]['f_min_y'], fmin, '-o', c='xkcd:crimson', lw=1.5, markersize=2)\n",
    "    # ax.text(23, max(fmin) * 0.95, 'F(q)*: %.2f' % ALL_DATA[scan]['f_star'], color='k')\n",
    "    ax.text(23, max(fmin) * 0.95, 'F(q)dq: %.2f' % ALL_DATA[scan]['f_area'], color='k')\n",
    "    ax.set_title('%s' % scan)"
   ]
  },
  {
   "cell_type": "code",
   "execution_count": null,
   "metadata": {},
   "outputs": [],
   "source": [
    "fig = plt.figure(figsize=(12, 9), dpi=100)\n",
    "fig.subplots_adjust(hspace=.5, wspace=.25)\n",
    "\n",
    "for i, scan in enumerate(ALL_DATA, start=1):\n",
    "    ax = fig.add_subplot(3, 3, i)\n",
    "    ax.plot(ALL_DATA[scan]['x'], ALL_DATA[scan]['f_star_x'], '-o', c='xkcd:crimson', lw=1.5, markersize=2)\n",
    "    # ax.plot(ALL_DATA[scan]['x_g'], ALL_DATA[scan]['f_g'], '-', c='xkcd:blue', lw=1.5, markersize=2)\n",
    "    # ax.text(22, max(ALL_DATA[scan]['f']) * 0.95, 'W: %.2f' % ALL_DATA[scan]['f_area'], color='xkcd:crimson')\n",
    "    # ax.text(22, max(ALL_DATA[scan]['f_g']) * 0.85, 'G: %.2f' % ALL_DATA[scan]['f_area_g'], color='xkcd:blue')\n",
    "    ax.set_title('%s' % scan)"
   ]
  },
  {
   "cell_type": "code",
   "execution_count": null,
   "metadata": {},
   "outputs": [],
   "source": []
  },
  {
   "cell_type": "code",
   "execution_count": null,
   "metadata": {},
   "outputs": [],
   "source": [
    "mw_all = [ALL_DATA[i]['mw'] for i in ALL_DATA]\n",
    "mw_order = np.argsort(mw_all)\n",
    "d_all = [ALL_DATA[i]['d'] for i in ALL_DATA]\n",
    "k_all = [ALL_DATA[i]['k'] for i in ALL_DATA]\n",
    "f_star_all = [ALL_DATA[i]['f_star'] for i in ALL_DATA]\n",
    "f_area_all = [ALL_DATA[i]['f_area'] for i in ALL_DATA]\n",
    "molecules = [d.split('_')[0] for d in ALL_DATA]"
   ]
  },
  {
   "cell_type": "code",
   "execution_count": null,
   "metadata": {},
   "outputs": [],
   "source": [
    "f_star_exp = {'DC': 0.74, 'HtBDC': 0.57, 'PVBA': 0.83, 'C60': 1.40, 'DNHD': 0.195, 'TPEE': 0.175, 'BtPHD': 0.325, 'VL': 0, 'PCARBORANE': 0}\n",
    "f_star_exp = [f_star_exp[i] * 23.061 for i in molecules]"
   ]
  },
  {
   "cell_type": "code",
   "execution_count": null,
   "metadata": {},
   "outputs": [],
   "source": [
    "fig = plt.figure(figsize=(20, 3), dpi=100)\n",
    "fig.subplots_adjust(hspace=.5, wspace=.25)\n",
    "\n",
    "ax = fig.add_subplot(1, 4, 1)\n",
    "ax.scatter(mw_all, d_all)\n",
    "ax.set_title('D')\n",
    "ax.set_ylim(0, 1e-14)\n",
    "for i, d in enumerate(ALL_DATA):\n",
    "    ax.text(mw_all[i], d_all[i], molecules[i])\n",
    "\n",
    "ax = fig.add_subplot(1, 4, 2)\n",
    "ax.scatter(mw_all, k_all)\n",
    "ax.set_title('k')\n",
    "\n",
    "ax = fig.add_subplot(1, 4, 3)\n",
    "ax.scatter(mw_all, f_star_all)\n",
    "ax.scatter(mw_all, f_star_exp)\n",
    "ax.set_title('F(q)*')\n",
    "ax.set_ylim(0, 35)\n",
    "for i, d in enumerate(ALL_DATA):\n",
    "    ax.text(mw_all[i],f_star_all[i], d.split('_')[0])\n",
    "\n",
    "ax = fig.add_subplot(1, 4, 4)\n",
    "ax.scatter(mw_all, f_area_all)\n",
    "ax.set_title('F(q)dq')\n",
    "# plt.ylim(0, 1e-14)\n",
    "# plt.ylabel('Diffusion coefficient (cm2 / s)')\n",
    "# plt.xlabel('Molecular weight (g / mol)')\n",
    "# plt.legend(['WHAM', 'Gauss'])"
   ]
  },
  {
   "cell_type": "markdown",
   "metadata": {},
   "source": [
    "### Save data for surface plot"
   ]
  },
  {
   "cell_type": "code",
   "execution_count": null,
   "metadata": {},
   "outputs": [],
   "source": [
    "import yaml\n",
    "\n",
    "scan_yaml = {'x': data['x'], 'y': data['y'], 'z': data['free']}\n",
    "SURFDIR = os.path.join(SCANDIR, 'analysis', 'surface-plot')\n",
    "with open(os.path.join(SURFDIR, '%s-2d-data.yaml' % SCAN), 'w') as yf:\n",
    "    yaml.dump(scan_yaml, yf)"
   ]
  },
  {
   "cell_type": "code",
   "execution_count": null,
   "metadata": {},
   "outputs": [],
   "source": []
  }
 ],
 "metadata": {
  "kernelspec": {
   "display_name": "Python 3",
   "language": "python",
   "name": "python3"
  },
  "language_info": {
   "codemirror_mode": {
    "name": "ipython",
    "version": 3
   },
   "file_extension": ".py",
   "mimetype": "text/x-python",
   "name": "python",
   "nbconvert_exporter": "python",
   "pygments_lexer": "ipython3",
   "version": "3.6.5"
  }
 },
 "nbformat": 4,
 "nbformat_minor": 1
}
