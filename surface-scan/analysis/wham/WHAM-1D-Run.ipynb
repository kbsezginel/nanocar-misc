{
 "cells": [
  {
   "cell_type": "code",
   "execution_count": 1,
   "metadata": {},
   "outputs": [],
   "source": [
    "import os\n",
    "from thermof.read import read_log, read_thermo\n",
    "import numpy as np\n",
    "from wham import *\n",
    "import matplotlib.pyplot as plt\n",
    "%matplotlib inline"
   ]
  },
  {
   "cell_type": "markdown",
   "metadata": {},
   "source": [
    "## WHAM 1-D\n",
    "This notebook is for WHAM analysis in 1D.\n",
    "\n",
    "#### Surface scan parameters"
   ]
  },
  {
   "cell_type": "code",
   "execution_count": null,
   "metadata": {},
   "outputs": [],
   "source": [
    "SCAN = 'HtBDC_Cu110'\n",
    "SCANDIR = '/home/kutay/Documents/git/Nanocar/surface-scan'\n",
    "DATADIR = os.path.join(SCANDIR, 'analysis', 'data', SCAN)\n",
    "WHAMDIR = os.path.join(SCANDIR, 'analysis', 'wham', 'run')\n",
    "DRX = 'y'\n",
    "K_SPRING = 200                                 # Spring constant in kcal/mol\n",
    "TIMESTEP = 1                                   # Timestep in femtoseconds\n",
    "T_CONVERSION = 1e-3                            # femtosecond -> picosecond\n",
    "T_SKIP = 5                                     # Skip first 5 ps of simulation for WHAM analysis\n",
    "HIST = dict(x=(21, 26), y=(22, 26))\n",
    "hist_min, hist_max = HIST[DRX]"
   ]
  },
  {
   "cell_type": "code",
   "execution_count": null,
   "metadata": {},
   "outputs": [],
   "source": [
    "thermo_headers = 'Step Temp Press TotEng E_pair E_mol Fmax Fnorm c_C1[1] c_C1[2] c_C1[3]'\n",
    "thermo_keys = ['step', 'temp', 'press', 'etotal', 'epair', 'emol', 'fmax', 'fnorm', 'x', 'y', 'z']"
   ]
  },
  {
   "cell_type": "code",
   "execution_count": null,
   "metadata": {},
   "outputs": [],
   "source": [
    "start =  [23.3805, 24.1629, 10]          # Molecule starting position\n",
    "xdist = 2                                # Distance to be traveled in y-axis (use 0 for 1D)\n",
    "ydist = 1.5                              # Distance to be traveled in x-axis (use 0 for 1D)\n",
    "dx, dy = 0.2, 0.1                        # Step size\n",
    "buffer = 0.2                             # Buffer distance\n",
    "\n",
    "xpos = np.arange(start[0] - xdist - buffer, start[0] + xdist + buffer + dx, dx)\n",
    "ypos = np.arange(start[1] - ydist - buffer, start[1] + ydist + buffer + dy, dy)\n",
    "print('x: %i points | y: %i points | Total: %i points' % (len(xpos), len(ypos), len(xpos) * len(ypos)))"
   ]
  },
  {
   "cell_type": "markdown",
   "metadata": {},
   "source": [
    "### Read and separate scans in y-direction\n",
    "A separate WHAM analysis will be made for scans in y-direction with different starting x values."
   ]
  },
  {
   "cell_type": "code",
   "execution_count": null,
   "metadata": {},
   "outputs": [],
   "source": [
    "scanlist = {}\n",
    "for xi, x in enumerate(xpos):\n",
    "    scanlist[xi] = []\n",
    "    for scan in os.listdir(DATADIR):\n",
    "        scan_x = int(scan.split('-')[0])\n",
    "        if scan_x == xi:\n",
    "            scanlist[xi].append(os.path.join(DATADIR, scan))"
   ]
  },
  {
   "cell_type": "markdown",
   "metadata": {},
   "source": [
    "### Write 1D WHAM time series files"
   ]
  },
  {
   "cell_type": "code",
   "execution_count": null,
   "metadata": {},
   "outputs": [],
   "source": [
    "for scanidx in scanlist:\n",
    "    # Create WHAM directory\n",
    "    scandir = os.path.join(WHAMDIR, SCAN, str(scanidx))\n",
    "    tsdir = os.path.join(scandir, 'ts')\n",
    "    os.makedirs(tsdir, exist_ok=True)\n",
    "    tsidx = 0\n",
    "    eq_pos, ts_files = {}, {}\n",
    "    nsim = len(scanlist[scanidx])\n",
    "    for simdir in scanlist[scanidx]:\n",
    "        # Read log file\n",
    "        logfile = os.path.join(simdir, 'log.%s' % SCAN)\n",
    "        # simidx, xi, yi = [int(i) for i in os.path.basename(simdir).split('-')]\n",
    "        xi, yi = [int(i) for i in os.path.basename(simdir).split('-')]\n",
    "        thermo_data = read_log(logfile, headers=thermo_headers)\n",
    "        thermo = read_thermo(thermo_data, headers=thermo_keys)[0]\n",
    "        # Write time series files\n",
    "        timeseriesfile = os.path.join(tsdir, '%i.dat' % (tsidx))\n",
    "        # SHIFT TIME AND COORDINATES -----------------------------------------------------------------------------\n",
    "        time = timesteps_to_time(thermo['step'][T_SKIP:], dt=TIMESTEP, conversion=T_CONVERSION, shift=int(T_SKIP * TIMESTEP))\n",
    "        coordinates = thermo[DRX][T_SKIP:]\n",
    "        # --------------------------------------------------------------------------------------------------------\n",
    "        write_timeseries_file(timeseriesfile, time, coordinates)\n",
    "        # Record starting position (min energy pos)\n",
    "        eq_pos[yi] = ypos[yi]\n",
    "        ts_files[yi] = timeseriesfile\n",
    "        tsidx += 1\n",
    "    # Write WHAM input file\n",
    "    ts_files = [ts_files[i] for i in range(nsim)]\n",
    "    eq_pos = [eq_pos[i] for i in range(nsim)]\n",
    "    spring_k = [K_SPRING] * nsim\n",
    "    datafile = os.path.join(scandir, '%i.in' % (scanidx))\n",
    "    write_data_file(datafile, ts_files, eq_pos, spring_k)"
   ]
  },
  {
   "cell_type": "markdown",
   "metadata": {},
   "source": [
    "### Setup WHAM"
   ]
  },
  {
   "cell_type": "code",
   "execution_count": null,
   "metadata": {},
   "outputs": [],
   "source": [
    "bin_size = dy\n",
    "num_bins = np.ceil((hist_max - hist_min) / bin_size)\n",
    "tolerance = 1e-5\n",
    "temperature = 200\n",
    "numpad = 0\n",
    "wham_exec = '/home/kutay/Documents/Research/Software/wham/wham/wham'"
   ]
  },
  {
   "cell_type": "markdown",
   "metadata": {},
   "source": [
    "### Run WHAM"
   ]
  },
  {
   "cell_type": "code",
   "execution_count": null,
   "metadata": {},
   "outputs": [],
   "source": [
    "SCAN_DATA = {}\n",
    "for scanidx in scanlist:\n",
    "    scandir = os.path.join(WHAMDIR, SCAN, str(scanidx))\n",
    "    datafile = os.path.join(scandir, '%i.in' % (scanidx))\n",
    "    outfile = os.path.join(scandir, '%i.out' % (scanidx))\n",
    "    wham_args = [wham_exec, hist_min, hist_max, num_bins, tolerance, temperature, numpad, datafile, outfile]\n",
    "    data = run_wham(wham_args, verbose=False)\n",
    "    SCAN_DATA[scanidx] = data"
   ]
  },
  {
   "cell_type": "markdown",
   "metadata": {},
   "source": [
    "## Plot energy barriers"
   ]
  },
  {
   "cell_type": "code",
   "execution_count": null,
   "metadata": {},
   "outputs": [],
   "source": [
    "def subplot(plot_fun, plot_args, nrow=1, width=3, height=3, dpi=200, save=None):\n",
    "    n_plots = len(plot_args)\n",
    "    ncol = np.ceil(n_plots / nrow)\n",
    "    figsize = (ncol * width, nrow * height)\n",
    "    fig = plt.figure(figsize=figsize, dpi=dpi)\n",
    "    fig.subplots_adjust(hspace=.5, wspace=.25)\n",
    "    for idx, args in enumerate(plot_args, start=1):\n",
    "        args['ax'] = fig.add_subplot(nrow, ncol, idx)\n",
    "        plot_fun(**args)\n",
    "    if save is not None:\n",
    "        plt.savefig(save, dpi=dpi, transparent=True, bbox_inches='tight')\n",
    "        \n",
    "def wham_plot(x, y, ax, xlabel, ylabel, title, xlim):\n",
    "    ax.plot(x, y, '-o', c='xkcd:crimson', lw=2, markersize=6)\n",
    "    plt.xlim(xlim)\n",
    "    plt.xlabel(xlabel)\n",
    "    plt.ylabel(ylabel)\n",
    "    plt.title(title)"
   ]
  },
  {
   "cell_type": "code",
   "execution_count": null,
   "metadata": {},
   "outputs": [],
   "source": [
    "fplot = []\n",
    "for scan_idx in SCAN_DATA:\n",
    "    data = SCAN_DATA[scan_idx]\n",
    "    fplot.append(dict(x=data['coor'], y=data['free'], xlabel='%s (Å)' % DRX, ylabel='Free energy (kcal/mol)', title='%s | %i : %.2f' % (SCAN, scan_idx, xpos[scan_idx]), xlim=HIST[DRX]))"
   ]
  },
  {
   "cell_type": "code",
   "execution_count": null,
   "metadata": {},
   "outputs": [],
   "source": [
    "plt_file = os.path.join(SCANDIR, 'analysis', 'wham', 'plots', '%s-barriers.png' % SCAN)\n",
    "subplot(wham_plot, fplot, width=6, dpi=300, nrow=5, save=plt_file)"
   ]
  },
  {
   "cell_type": "markdown",
   "metadata": {},
   "source": [
    "## Save data\n",
    "Save WHAM data for surface plot using Bokeh"
   ]
  },
  {
   "cell_type": "code",
   "execution_count": null,
   "metadata": {},
   "outputs": [],
   "source": [
    "import yaml \n",
    "scan_yaml = {'x': [], 'y': [], 'z': []}\n",
    "for scanidx in range(len(scanlist)):\n",
    "    data = SCAN_DATA[scanidx]\n",
    "    scan_x_pos = [xpos[scanidx]] * len(data['coor'])\n",
    "    scan_yaml['x'] += scan_x_pos\n",
    "    scan_yaml['y'] += data['coor']\n",
    "    scan_yaml['z'] += data['free']\n",
    "\n",
    "SURFDIR = os.path.join(SCANDIR, 'analysis', 'surface-plot', 'data')\n",
    "with open(os.path.join(SURFDIR, '%s-data.yaml' % SCAN), 'w') as yf:\n",
    "    yaml.dump(scan_yaml, yf)\n",
    "print('Done!')"
   ]
  },
  {
   "cell_type": "markdown",
   "metadata": {},
   "source": [
    "### 3D Energy Plot"
   ]
  },
  {
   "cell_type": "code",
   "execution_count": null,
   "metadata": {},
   "outputs": [],
   "source": [
    "from mpl_toolkits.mplot3d import Axes3D\n",
    "%matplotlib qt"
   ]
  },
  {
   "cell_type": "code",
   "execution_count": null,
   "metadata": {},
   "outputs": [],
   "source": [
    "fig = plt.figure(figsize=(10, 7))\n",
    "ax = fig.add_subplot(111, projection='3d')\n",
    "cmap = plt.get_cmap('viridis')\n",
    "max_energy = 12\n",
    "\n",
    "for scanidx in range(len(scanlist)):\n",
    "    data = SCAN_DATA[scanidx]\n",
    "    scan_x_pos = [xpos[scanidx]] * len(data['coor'])\n",
    "    F = np.array(data['free'])\n",
    "    F[np.isinf(F)] = max_energy\n",
    "    ax.scatter(data['coor'], scan_x_pos, data['free'], '-o', c=[cmap(i) for i in (F / max(F))], lw=2, s=100, alpha=1, zorder=len(scanlist) - scanidx)\n",
    "    # ax.plot(data['coor'], scan_x_pos, data['free'], '-o', c=[cmap(i) for i in (F / max(F))], lw=2, markersize=6, alpha=1, zorder=len(scanlist) - scanidx)\n",
    "    # ax.xlim(HIST[DRX])\n",
    "\n",
    "# Plot surface atoms\n",
    "surfatoms1 = [[21.582, 22.8912], [25.179, 22.8912], [21.582, 25.4346], [25.179, 25.4346]]\n",
    "surfatoms2 = [23.3805, 24.1629]\n",
    "for satom in surfatoms1:\n",
    "    ax.scatter(satom[1], satom[0], 0, s=700, c='k')\n",
    "ax.scatter(surfatoms2[1], surfatoms2[0], -1, s=700, c='k', alpha=0.8)\n",
    "\n",
    "plt.title('WHAM Energy Barrier | %s' % DRX)\n",
    "ax.set_xlabel('y (Å)')\n",
    "ax.set_ylabel('x (Å)')\n",
    "ax.set_zlabel('Free energy (kcal/mol)')\n",
    "plt.show()"
   ]
  },
  {
   "cell_type": "code",
   "execution_count": null,
   "metadata": {},
   "outputs": [],
   "source": []
  }
 ],
 "metadata": {
  "kernelspec": {
   "display_name": "Python 3",
   "language": "python",
   "name": "python3"
  },
  "language_info": {
   "codemirror_mode": {
    "name": "ipython",
    "version": 3
   },
   "file_extension": ".py",
   "mimetype": "text/x-python",
   "name": "python",
   "nbconvert_exporter": "python",
   "pygments_lexer": "ipython3",
   "version": "3.6.5"
  }
 },
 "nbformat": 4,
 "nbformat_minor": 1
}
