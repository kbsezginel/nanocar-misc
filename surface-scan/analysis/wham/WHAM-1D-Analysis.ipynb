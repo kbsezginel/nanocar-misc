{
 "cells": [
  {
   "cell_type": "code",
   "execution_count": 2,
   "metadata": {},
   "outputs": [],
   "source": [
    "import os\n",
    "import numpy as np\n",
    "import matplotlib.pyplot as plt\n",
    "\n",
    "from scipy.stats import norm\n",
    "from scipy.integrate import simps\n",
    "from numpy import trapz\n",
    "\n",
    "from angstrom import Molecule\n",
    "from thermof.read import read_log, read_thermo\n",
    "from wham import *\n",
    "from dctst import *\n",
    "\n",
    "%matplotlib inline"
   ]
  },
  {
   "cell_type": "markdown",
   "metadata": {},
   "source": [
    "## WHAM 1-D\n",
    "This notebook is for WHAM analysis in 1D\n",
    "\n",
    "#### Surface scan parameters"
   ]
  },
  {
   "cell_type": "code",
   "execution_count": null,
   "metadata": {},
   "outputs": [],
   "source": [
    "SCAN = 'HtBDC_Cu110'\n",
    "SCANDIR = '/home/kutay/Documents/git/Nanocar/surface-scan'\n",
    "DATADIR = os.path.join(SCANDIR, 'analysis', 'data')\n",
    "WHAMDIR = os.path.join(SCANDIR, 'analysis', 'wham', 'run')"
   ]
  },
  {
   "cell_type": "code",
   "execution_count": null,
   "metadata": {},
   "outputs": [],
   "source": [
    "SCANLIST = sorted([int(i) for i in os.listdir(os.path.join(WHAMDIR, SCAN))])\n",
    "DATA = {}\n",
    "for scanidx in SCANLIST:\n",
    "    wham_out = os.path.join(WHAMDIR, SCAN, str(scanidx), '%i.out' % scanidx)\n",
    "    wham_data = read_wham_out(wham_out)\n",
    "    # Get activation energy\n",
    "    F = np.array(wham_data['free'])\n",
    "    F[np.isinf(F)] = 0\n",
    "    wham_data['Ea'] = max(F)\n",
    "    DATA[scanidx] = wham_data"
   ]
  },
  {
   "cell_type": "markdown",
   "metadata": {},
   "source": [
    "### Calculate Boltzmann average activation energy"
   ]
  },
  {
   "cell_type": "code",
   "execution_count": null,
   "metadata": {},
   "outputs": [],
   "source": [
    "F = [DATA[i]['Ea'] for i in DATA]\n",
    "F_avg = calculate_boltzmann_average(F, temperature=200)\n",
    "F_min_idx = np.argsort(F)[0]\n",
    "F_min = F[F_min_idx]\n",
    "print('Min Ea: %.3f | Avg. Ea: %.3f' % (F_min, F_avg))"
   ]
  },
  {
   "cell_type": "markdown",
   "metadata": {},
   "source": [
    "### Fit gaussian curve and also pick lowest energy barrier\n",
    "\n",
    "$F(q) = e^{-a ( \\frac{\\Delta x}{2} - x)^2 + b}$\n"
   ]
  },
  {
   "cell_type": "code",
   "execution_count": null,
   "metadata": {},
   "outputs": [],
   "source": [
    "x_wham = np.array(DATA[F_min_idx]['coor'])\n",
    "f_wham = np.array(DATA[F_min_idx]['free'])\n",
    "f_wham[np.isinf(f_wham)] = 0\n",
    "area_wham = simps(f_wham, dx=0.1)\n",
    "\n",
    "x_gauss, f_gauss = fit_gaussian(x_wham, f_wham, dx=0.005)\n",
    "area_gauss = simps(f_gauss, dx=0.005)\n",
    "\n",
    "plt.plot(x_wham, f_wham)\n",
    "plt.plot(x_gauss, f_gauss)\n",
    "plt.ylabel('Free energy (kcal / mol)')\n",
    "plt.xlabel('y (Å)')\n",
    "plt.legend(['WHAM', 'GAUSS'])\n",
    "\n",
    "print('WHAM Area: %.2f | F(q*): %.2f' % (area_wham, max(f_wham)))\n",
    "print('GAUSS Area: %.2f | F(q*): %.2f' % (area_gauss, max(f_gauss)))"
   ]
  },
  {
   "cell_type": "markdown",
   "metadata": {},
   "source": [
    "### Calculate rate and diffusion coefficient\n",
    "\n",
    "$k_{A \\rightarrow B} = \\kappa {\\sqrt{ \\dfrac{1}{2 \\pi M \\beta}}} \\dfrac{ e^{- \\beta F(q^*)} } { \\int e^{- \\beta F(q)}dq } \\ \\ \\rightarrow \\ \\  k_{A \\rightarrow B} = \\kappa \\times 36.377 \\sqrt{\\dfrac{T}{M}} \\dfrac{ e^{- \\beta F(q^*)} } { \\int e^{- \\beta F(q)}dq }  \\Big(\\dfrac{1}{s}\\Big)$\n",
    "\n",
    "$D_s = \\dfrac{1}{2n} \\times k_{A \\rightarrow B} \\times \\lambda^2$"
   ]
  },
  {
   "cell_type": "code",
   "execution_count": null,
   "metadata": {},
   "outputs": [],
   "source": [
    "mol = Molecule(read='/home/kutay/Documents/git/Nanocar/molecules/surface-diffusion/opt/%s.xyz' % SCAN.split('_')[0])\n",
    "mw = mol.get_molecular_weight()       # g / mol"
   ]
  },
  {
   "cell_type": "code",
   "execution_count": null,
   "metadata": {},
   "outputs": [],
   "source": [
    "k_WHAM = calculate_rate(max(F_WHAM), area_wham, mw)\n",
    "D_WHAM = calculate_diffusion(k_WHAM, lamda=1)\n",
    "print('k: %.2e 1/s | D: %.2e cm2/s' % (k_WHAM, D_WHAM))"
   ]
  },
  {
   "cell_type": "code",
   "execution_count": null,
   "metadata": {},
   "outputs": [],
   "source": [
    "k_GAUSS = calculate_rate(max(F_GAUSS), area_gauss, mw)\n",
    "D_GAUSS = calculate_diffusion(k_GAUSS, lamda=1)\n",
    "print('k: %.2e 1/s | D: %.2e cm2/s' % (k_GAUSS, D_GAUSS))"
   ]
  },
  {
   "cell_type": "markdown",
   "metadata": {},
   "source": [
    "## Read all SCANs"
   ]
  },
  {
   "cell_type": "code",
   "execution_count": null,
   "metadata": {},
   "outputs": [],
   "source": [
    "ALL_DATA = {}\n",
    "for SCAN in os.listdir(DATADIR):\n",
    "    SCANLIST = sorted([int(i) for i in os.listdir(os.path.join(WHAMDIR, SCAN))])\n",
    "    DATA = {}\n",
    "    for scanidx in SCANLIST:\n",
    "        wham_out = os.path.join(WHAMDIR, SCAN, str(scanidx), '%i.out' % scanidx)\n",
    "        wham_data = read_wham_out(wham_out)\n",
    "        # Get activation energy\n",
    "        f_scan = np.array(wham_data['free'])\n",
    "        f_scan[np.isinf(f_scan)] = 0\n",
    "        wham_data['Ea'] = max(f_scan)\n",
    "        DATA[scanidx] = wham_data\n",
    "    F = [DATA[i]['Ea'] for i in DATA]\n",
    "    F_avg = calculate_boltzmann_average(F, temperature=200)\n",
    "    F_min_idx = np.argsort(F)[0]\n",
    "    F_min = F[F_min_idx]\n",
    "    \n",
    "    # Calculate molecular weight\n",
    "    mol = Molecule(read='/home/kutay/Documents/git/Nanocar/molecules/surface-diffusion/opt/%s.xyz' % SCAN.split('_')[0])\n",
    "    mw = mol.get_molecular_weight()\n",
    "    \n",
    "    # Calculate k and D using WHAM barrier\n",
    "    x_wham = np.array(DATA[F_min_idx]['coor'])\n",
    "    f_wham = np.array(DATA[F_min_idx]['free'])\n",
    "    f_wham[np.isinf(f_wham)] = 0\n",
    "    area_wham = simps(f_wham, dx=0.1)\n",
    "    k_wham = calculate_rate(max(f_wham), area_wham, mw)\n",
    "    d_wham = calculate_diffusion(k_wham, lamda=1)\n",
    "\n",
    "    # Calculate k and D using Gaussian fit\n",
    "    x_gauss, f_gauss = fit_gaussian(x_wham, f_wham, dx=0.005, tolerance=0.01)\n",
    "    area_gauss = simps(f_gauss, dx=0.005)\n",
    "    k_gauss = calculate_rate(max(f_gauss), area_gauss, mw)\n",
    "    d_gauss = calculate_diffusion(k_gauss, lamda=1)\n",
    "    \n",
    "    ALL_DATA[SCAN] = {'f_star_w': max(f_wham), 'f_area_w': area_wham, 'x_w': x_wham, 'f_w': f_wham, 'k_w': k_wham, 'd_w': d_wham, 'mw': mw,\n",
    "                      'f_star_g': max(f_gauss), 'f_area_g': area_gauss, 'x_g': x_gauss, 'f_g': f_gauss, 'k_g': k_gauss, 'd_g': d_gauss}"
   ]
  },
  {
   "cell_type": "code",
   "execution_count": null,
   "metadata": {},
   "outputs": [],
   "source": [
    "fig = plt.figure(figsize=(12, 9), dpi=100)\n",
    "fig.subplots_adjust(hspace=.5, wspace=.25)\n",
    "\n",
    "for i, scan in enumerate(ALL_DATA, start=1):\n",
    "    ax = fig.add_subplot(3, 3, i)\n",
    "    ax.plot(ALL_DATA[scan]['x_w'], ALL_DATA[scan]['f_w'], '-o', c='xkcd:crimson', lw=1.5, markersize=2)\n",
    "    ax.plot(ALL_DATA[scan]['x_g'], ALL_DATA[scan]['f_g'], '-', c='xkcd:blue', lw=1.5, markersize=2)\n",
    "    ax.text(22, max(ALL_DATA[scan]['f_g']) * 0.95, 'W: %.2f' % ALL_DATA[scan]['f_area_w'], color='xkcd:crimson')\n",
    "    ax.text(22, max(ALL_DATA[scan]['f_g']) * 0.85, 'G: %.2f' % ALL_DATA[scan]['f_area_g'], color='xkcd:blue')\n",
    "    ax.set_title('%s' % scan)"
   ]
  },
  {
   "cell_type": "markdown",
   "metadata": {},
   "source": [
    "### Molecular weight vs diffusion\n",
    "This plot sort of proves that Gaussian fit doesn't really capture the effect of geometry.\n",
    "Some molecules can break the MW vs D curve by geometry due to having differently shaped energy barriers.\n",
    "With Gaussian fit since the barrier shape is the same for all these differences are not pronounced."
   ]
  },
  {
   "cell_type": "code",
   "execution_count": null,
   "metadata": {},
   "outputs": [],
   "source": [
    "mw_all = [ALL_DATA[i]['mw'] for i in ALL_DATA]\n",
    "mw_order = np.argsort(mw_all)\n",
    "d_w_all = [ALL_DATA[i]['d_w'] for i in ALL_DATA]\n",
    "d_g_all = [ALL_DATA[i]['d_g'] for i in ALL_DATA]"
   ]
  },
  {
   "cell_type": "code",
   "execution_count": null,
   "metadata": {},
   "outputs": [],
   "source": [
    "plt.scatter(mw_all, d_w_all)\n",
    "for i, d in enumerate(ALL_DATA):\n",
    "    plt.text(mw_all[i], d_w_all[i], d.split('_')[0])\n",
    "plt.scatter(mw_all, d_g_all)\n",
    "plt.ylim(0, 1e-14)\n",
    "plt.ylabel('Diffusion coefficient (cm2 / s)')\n",
    "plt.xlabel('Molecular weight (g / mol)')\n",
    "plt.legend(['WHAM', 'Gauss'])"
   ]
  },
  {
   "cell_type": "code",
   "execution_count": null,
   "metadata": {},
   "outputs": [],
   "source": []
  }
 ],
 "metadata": {
  "kernelspec": {
   "display_name": "Python 3",
   "language": "python",
   "name": "python3"
  },
  "language_info": {
   "codemirror_mode": {
    "name": "ipython",
    "version": 3
   },
   "file_extension": ".py",
   "mimetype": "text/x-python",
   "name": "python",
   "nbconvert_exporter": "python",
   "pygments_lexer": "ipython3",
   "version": "3.6.5"
  }
 },
 "nbformat": 4,
 "nbformat_minor": 1
}
