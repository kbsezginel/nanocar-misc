{
 "cells": [
  {
   "cell_type": "code",
   "execution_count": 1,
   "metadata": {},
   "outputs": [],
   "source": [
    "import os\n",
    "from thermof.read import read_log, read_thermo\n",
    "import numpy as np\n",
    "from wham2d import *\n",
    "import matplotlib.pyplot as plt\n",
    "%matplotlib inline"
   ]
  },
  {
   "cell_type": "markdown",
   "metadata": {},
   "source": [
    "## WHAM 2-D"
   ]
  },
  {
   "cell_type": "code",
   "execution_count": 7,
   "metadata": {},
   "outputs": [],
   "source": [
    "SCAN = 'DC_Cu110'\n",
    "SCANDIR = '/home/kutay/Documents/git/Nanocar/surface-scan'\n",
    "DATADIR = os.path.join(SCANDIR, 'analysis', 'data', SCAN)\n",
    "WHAMDIR = os.path.join(SCANDIR, 'analysis', 'wham', 'run2d', SCAN)\n",
    "TSDIR = os.path.join(SCANDIR, 'analysis', 'wham', 'run2d', SCAN, 'data')\n",
    "os.makedirs(TSDIR, exist_ok=True)\n",
    "scanlist = [os.path.join(DATADIR, i) for i in os.listdir(DATADIR)]"
   ]
  },
  {
   "cell_type": "code",
   "execution_count": 8,
   "metadata": {},
   "outputs": [],
   "source": [
    "thermo_headers = 'Step Temp Press TotEng E_pair E_mol Fmax Fnorm c_C1[1] c_C1[2] c_C1[3]'\n",
    "thermo_keys = ['step', 'temp', 'press', 'etotal', 'epair', 'emol', 'fmax', 'fnorm', 'x', 'y', 'z']"
   ]
  },
  {
   "cell_type": "markdown",
   "metadata": {},
   "source": [
    "### Write 2D WHAM time series files"
   ]
  },
  {
   "cell_type": "code",
   "execution_count": 9,
   "metadata": {},
   "outputs": [],
   "source": [
    "K_SPRING = 200                                 # Spring constant in kcal/mol\n",
    "TIMESTEP = 1                                   # Timstep in femtoseconds\n",
    "T_CONVERSION = 1e-3                            # femtosecond -> picosecond\n",
    "T_SKIP = 5                                     # Skip first 5 ps of simulation for WHAM analysis"
   ]
  },
  {
   "cell_type": "code",
   "execution_count": 10,
   "metadata": {},
   "outputs": [],
   "source": [
    "start_pos = {}\n",
    "for simdir in scanlist:\n",
    "    logfile = os.path.join(simdir, 'log.%s' % SCAN)\n",
    "    try:\n",
    "        # _, xi, yi = [int(i) for i in os.path.basename(simdir).split('-')]\n",
    "        xi, yi = [int(i) for i in os.path.basename(simdir).split('-')]\n",
    "        thermo_data = read_log(logfile, headers=thermo_headers)\n",
    "        thermo = read_thermo(thermo_data, headers=thermo_keys)[0]\n",
    "        # Write time series files\n",
    "        timeseriesfile = os.path.join(WHAMDIR, 'data', '%i-%i-2d.dat' % (xi ,yi))\n",
    "        time = timesteps_to_time(thermo['step'], dt=1, conversion=1e-3)  # femtosecond -> picosecond\n",
    "        time = timesteps_to_time(thermo['step'][T_SKIP:], dt=TIMESTEP, conversion=T_CONVERSION, shift=int(T_SKIP * TIMESTEP))\n",
    "        write_timeseries_file(timeseriesfile, time, thermo['x'][T_SKIP:], thermo['y'][T_SKIP:])\n",
    "        for drx in ['x', 'y']:\n",
    "            # Record starting position (min energy pos)\n",
    "            start_pos['%i-%i-%s' % (xi ,yi, drx)] = thermo[drx][0]\n",
    "    except Exception as e:\n",
    "        print(e, logfile)"
   ]
  },
  {
   "cell_type": "markdown",
   "metadata": {},
   "source": [
    "### Write 2D WHAM input files"
   ]
  },
  {
   "cell_type": "code",
   "execution_count": 11,
   "metadata": {},
   "outputs": [],
   "source": [
    "nx, ny = 22, 34\n",
    "tsfiles, mins_x, mins_y = [], [], []\n",
    "for ypos in range(ny):\n",
    "    for xpos in range(nx):\n",
    "        tsfiles.append(os.path.join(WHAMDIR, 'data', '%i-%i-2d.dat' % (xpos ,ypos)))\n",
    "        mins_x.append(start_pos['%i-%i-x' % (xpos ,ypos)])\n",
    "        mins_y.append(start_pos['%i-%i-y' % (xpos ,ypos)])\n",
    "\n",
    "datafile = os.path.join(WHAMDIR, 'wham-2d.in')\n",
    "spring_k = [K_SPRING] * len(tsfiles)\n",
    "write_data_file(datafile, tsfiles, mins_x, mins_y, spring_k, spring_k)"
   ]
  },
  {
   "cell_type": "markdown",
   "metadata": {},
   "source": [
    "### Run 2D WHAM"
   ]
  },
  {
   "cell_type": "code",
   "execution_count": 22,
   "metadata": {},
   "outputs": [],
   "source": [
    "hist_min_x, hist_max_x = 21, 26\n",
    "hist_min_y, hist_max_y = 22, 26\n",
    "bin_size_x, bin_size_y = 0.2, 0.1\n",
    "num_bins_x = int(np.ceil((hist_max_x - hist_min_x) / bin_size_x))\n",
    "num_bins_y = int(np.ceil((hist_max_y - hist_min_y) / bin_size_y))\n",
    "Px, Py = 'Px=0', 'Py=0'\n",
    "tolerance = 1e-5\n",
    "temperature = 200\n",
    "numpad = 0\n",
    "use_mask = 0\n",
    "wham_exec = '/home/kutay/Documents/Research/Software/wham/wham-2d/wham-2d'\n",
    "outfile = os.path.join(WHAMDIR, 'wham-2d.out')\n",
    "wham_args = [wham_exec, Px, hist_min_x, hist_max_x, num_bins_x, Py, hist_min_y, hist_max_y, num_bins_y, tolerance, temperature, numpad, datafile, outfile, use_mask]"
   ]
  },
  {
   "cell_type": "code",
   "execution_count": 23,
   "metadata": {},
   "outputs": [],
   "source": [
    "data = run_wham(wham_args, verbose=False)"
   ]
  },
  {
   "cell_type": "markdown",
   "metadata": {},
   "source": [
    "### Read WHAM data"
   ]
  },
  {
   "cell_type": "code",
   "execution_count": 24,
   "metadata": {},
   "outputs": [],
   "source": [
    "xbins = [round(i, 6) for i in np.arange(min(data['x']), max(data['x']) + bin_size_x * 0.5, bin_size_x)]\n",
    "ybins = [round(i, 6) for i in np.arange(min(data['y']), max(data['y']) + bin_size_y * 0.5, bin_size_y)]\n",
    "matrixdata = np.zeros((len(xbins), len(ybins)))\n",
    "probdata = np.zeros((len(xbins), len(ybins)))"
   ]
  },
  {
   "cell_type": "code",
   "execution_count": 25,
   "metadata": {},
   "outputs": [],
   "source": [
    "for idx, free in enumerate(data['free']):\n",
    "    x_idx = xbins.index(data['x'][idx])\n",
    "    y_idx = ybins.index(data['y'][idx])\n",
    "    matrixdata[x_idx][y_idx] = free\n",
    "    probdata[x_idx][y_idx] = data['prob'][idx]"
   ]
  },
  {
   "cell_type": "code",
   "execution_count": 26,
   "metadata": {},
   "outputs": [
    {
     "data": {
      "text/plain": [
       "<matplotlib.colorbar.Colorbar at 0x7f519ee93390>"
      ]
     },
     "execution_count": 26,
     "metadata": {},
     "output_type": "execute_result"
    },
    {
     "data": {
      "image/png": "[encoded data removed]",
      "text/plain": [
       "<Figure size 432x288 with 2 Axes>"
      ]
     },
     "metadata": {},
     "output_type": "display_data"
    }
   ],
   "source": [
    "plt.imshow(matrixdata.T, origin='lower')\n",
    "plt.colorbar()"
   ]
  },
  {
   "cell_type": "code",
   "execution_count": null,
   "metadata": {},
   "outputs": [],
   "source": [
    "plt.imshow(probdata.T, origin='lower', vmax=0.001)\n",
    "plt.colorbar()"
   ]
  },
  {
   "cell_type": "markdown",
   "metadata": {},
   "source": [
    "Lets find the min energy pathway in y-direction"
   ]
  },
  {
   "cell_type": "code",
   "execution_count": 64,
   "metadata": {},
   "outputs": [
    {
     "name": "stdout",
     "output_type": "stream",
     "text": [
      "Min Ea: 11.867 | Avg. Ea: 11.963\n"
     ]
    }
   ],
   "source": [
    "all_Ea = []\n",
    "for yidx in range(num_bins_y - 1):\n",
    "    Ea = np.array(data['free'][yidx * num_bins_x:(yidx+1) * num_bins_x])\n",
    "    Ea[np.isinf(Ea)] = 1\n",
    "    all_Ea.append(max(Ea))\n",
    "    \n",
    "T = 200                                # K\n",
    "kb = 0.0019872041                      # kcal / mol.K\n",
    "beta = 1 / (kb * T)                    # mol / kcal\n",
    "\n",
    "all_Ea = np.array(all_Ea)\n",
    "Ptot = np.exp(-all_Ea * beta)\n",
    "P = Ptot / Ptot.sum()\n",
    "print('Min Ea: %.3f | Avg. Ea: %.3f' % (min(all_Ea), (P * all_Ea).sum()))"
   ]
  },
  {
   "cell_type": "code",
   "execution_count": 69,
   "metadata": {},
   "outputs": [
    {
     "data": {
      "text/plain": [
       "34"
      ]
     },
     "execution_count": 69,
     "metadata": {},
     "output_type": "execute_result"
    }
   ],
   "source": [
    "max([int(i.split('-')[1]) for i in start_pos.keys()])"
   ]
  },
  {
   "cell_type": "markdown",
   "metadata": {},
   "source": [
    "Save data for surface plot"
   ]
  },
  {
   "cell_type": "code",
   "execution_count": 27,
   "metadata": {},
   "outputs": [],
   "source": [
    "import yaml\n",
    "\n",
    "scan_yaml = {'x': data['x'], 'y': data['y'], 'z': data['free']}\n",
    "SURFDIR = os.path.join(SCANDIR, 'analysis', 'surface-plot')\n",
    "with open(os.path.join(SURFDIR, '%s-2d-data.yaml' % SCAN), 'w') as yf:\n",
    "    yaml.dump(scan_yaml, yf)"
   ]
  },
  {
   "cell_type": "code",
   "execution_count": null,
   "metadata": {},
   "outputs": [],
   "source": []
  }
 ],
 "metadata": {
  "kernelspec": {
   "display_name": "Python 3",
   "language": "python",
   "name": "python3"
  },
  "language_info": {
   "codemirror_mode": {
    "name": "ipython",
    "version": 3
   },
   "file_extension": ".py",
   "mimetype": "text/x-python",
   "name": "python",
   "nbconvert_exporter": "python",
   "pygments_lexer": "ipython3",
   "version": "3.6.5"
  }
 },
 "nbformat": 4,
 "nbformat_minor": 1
}
