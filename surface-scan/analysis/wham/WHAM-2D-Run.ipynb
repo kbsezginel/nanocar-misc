{
 "cells": [
  {
   "cell_type": "code",
   "execution_count": 2,
   "metadata": {},
   "outputs": [],
   "source": [
    "import os\n",
    "from thermof.read import read_log, read_thermo\n",
    "import numpy as np\n",
    "from wham2d import *\n",
    "import matplotlib.pyplot as plt\n",
    "%matplotlib inline"
   ]
  },
  {
   "cell_type": "markdown",
   "metadata": {},
   "source": [
    "## WHAM 2-D"
   ]
  },
  {
   "cell_type": "code",
   "execution_count": null,
   "metadata": {},
   "outputs": [],
   "source": [
    "# SCANS = ['DC_Cu110', 'HtBDC_Cu110', 'C60_Cu110', 'PCARBORANE_Cu110', 'BtPHD_Cu110', 'DNHD_Cu110', 'PVBA_Cu110', 'TPEE_Cu110', 'VL_Cu110']\n",
    "SCAN = 'DC_Cu110'\n",
    "SCANDIR = '/home/kutay/Documents/git/Nanocar/surface-scan'\n",
    "DATADIR = os.path.join(SCANDIR, 'analysis', 'data', SCAN)\n",
    "WHAMDIR = os.path.join(SCANDIR, 'analysis', 'wham', 'run2d', SCAN)\n",
    "TSDIR = os.path.join(SCANDIR, 'analysis', 'wham', 'run2d', SCAN, 'data')\n",
    "os.makedirs(TSDIR, exist_ok=True)\n",
    "scanlist = [os.path.join(DATADIR, i) for i in os.listdir(DATADIR)]"
   ]
  },
  {
   "cell_type": "code",
   "execution_count": null,
   "metadata": {},
   "outputs": [],
   "source": [
    "thermo_headers = 'Step Temp Press TotEng E_pair E_mol Fmax Fnorm c_C1[1] c_C1[2] c_C1[3]'\n",
    "thermo_keys = ['step', 'temp', 'press', 'etotal', 'epair', 'emol', 'fmax', 'fnorm', 'x', 'y', 'z']"
   ]
  },
  {
   "cell_type": "markdown",
   "metadata": {},
   "source": [
    "### Write 2D WHAM time series files"
   ]
  },
  {
   "cell_type": "code",
   "execution_count": null,
   "metadata": {},
   "outputs": [],
   "source": [
    "K_SPRING = 200                                 # Spring constant in kcal/mol\n",
    "TIMESTEP = 1                                   # Timstep in femtoseconds\n",
    "T_CONVERSION = 1e-3                            # femtosecond -> picosecond\n",
    "T_SKIP = 5                                     # Skip first 5 ps of simulation for WHAM analysis"
   ]
  },
  {
   "cell_type": "code",
   "execution_count": null,
   "metadata": {},
   "outputs": [],
   "source": [
    "start_pos = {}\n",
    "for simdir in scanlist:\n",
    "    logfile = os.path.join(simdir, 'log.%s' % SCAN)\n",
    "    try:\n",
    "        xi, yi = [int(i) for i in os.path.basename(simdir).split('-')]\n",
    "        thermo_data = read_log(logfile, headers=thermo_headers)\n",
    "        thermo = read_thermo(thermo_data, headers=thermo_keys)[0]\n",
    "        # Write time series files\n",
    "        timeseriesfile = os.path.join(WHAMDIR, 'data', '%i-%i-2d.dat' % (xi ,yi))\n",
    "        time = timesteps_to_time(thermo['step'], dt=1, conversion=1e-3)  # femtosecond -> picosecond\n",
    "        time = timesteps_to_time(thermo['step'][T_SKIP:], dt=TIMESTEP, conversion=T_CONVERSION, shift=int(T_SKIP * TIMESTEP))\n",
    "        write_timeseries_file(timeseriesfile, time, thermo['x'][T_SKIP:], thermo['y'][T_SKIP:])\n",
    "        for drx in ['x', 'y']:\n",
    "            # Record starting position (min energy pos)\n",
    "            start_pos['%i-%i-%s' % (xi ,yi, drx)] = thermo[drx][0]\n",
    "    except Exception as e:\n",
    "        print(e, logfile)"
   ]
  },
  {
   "cell_type": "markdown",
   "metadata": {},
   "source": [
    "### Write 2D WHAM input files"
   ]
  },
  {
   "cell_type": "code",
   "execution_count": null,
   "metadata": {},
   "outputs": [],
   "source": [
    "nx, ny = 22, 34\n",
    "tsfiles, mins_x, mins_y = [], [], []\n",
    "for ypos in range(ny):\n",
    "    for xpos in range(nx):\n",
    "        tsfiles.append(os.path.join(WHAMDIR, 'data', '%i-%i-2d.dat' % (xpos ,ypos)))\n",
    "        mins_x.append(start_pos['%i-%i-x' % (xpos ,ypos)])\n",
    "        mins_y.append(start_pos['%i-%i-y' % (xpos ,ypos)])\n",
    "\n",
    "datafile = os.path.join(WHAMDIR, 'wham-2d.in')\n",
    "spring_k = [K_SPRING] * len(tsfiles)\n",
    "write_data_file(datafile, tsfiles, mins_x, mins_y, spring_k, spring_k)"
   ]
  },
  {
   "cell_type": "markdown",
   "metadata": {},
   "source": [
    "### Run 2D WHAM"
   ]
  },
  {
   "cell_type": "code",
   "execution_count": null,
   "metadata": {},
   "outputs": [],
   "source": [
    "hist_min_x, hist_max_x = 21, 26\n",
    "hist_min_y, hist_max_y = 22, 25.8\n",
    "bin_size_x, bin_size_y = 0.2, 0.1\n",
    "num_bins_x = int(np.ceil((hist_max_x - hist_min_x) / bin_size_x))\n",
    "num_bins_y = int(np.ceil((hist_max_y - hist_min_y) / bin_size_y))\n",
    "Px, Py = 'Px=0', 'Py=0'\n",
    "tolerance = 1e-5\n",
    "temperature = 200\n",
    "numpad = 0\n",
    "use_mask = 0\n",
    "wham_exec = '/home/kutay/Documents/Research/Software/wham/wham-2d/wham-2d'\n",
    "outfile = os.path.join(WHAMDIR, 'wham-2d.out')\n",
    "wham_args = [wham_exec, Px, hist_min_x, hist_max_x, num_bins_x, Py, hist_min_y, hist_max_y, num_bins_y, tolerance, temperature, numpad, datafile, outfile, use_mask]"
   ]
  },
  {
   "cell_type": "code",
   "execution_count": null,
   "metadata": {},
   "outputs": [],
   "source": [
    "data = run_wham(wham_args, verbose=False)"
   ]
  },
  {
   "cell_type": "code",
   "execution_count": null,
   "metadata": {},
   "outputs": [],
   "source": []
  }
 ],
 "metadata": {
  "kernelspec": {
   "display_name": "Python 3",
   "language": "python",
   "name": "python3"
  },
  "language_info": {
   "codemirror_mode": {
    "name": "ipython",
    "version": 3
   },
   "file_extension": ".py",
   "mimetype": "text/x-python",
   "name": "python",
   "nbconvert_exporter": "python",
   "pygments_lexer": "ipython3",
   "version": "3.6.5"
  }
 },
 "nbformat": 4,
 "nbformat_minor": 1
}
