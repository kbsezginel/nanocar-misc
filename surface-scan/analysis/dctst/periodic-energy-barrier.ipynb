{
 "cells": [
  {
   "cell_type": "code",
   "execution_count": 2,
   "metadata": {},
   "outputs": [],
   "source": [
    "import os\n",
    "import yaml\n",
    "import numpy as np\n",
    "import matplotlib.pyplot as plt\n",
    "\n",
    "from scipy.stats import norm\n",
    "from scipy.integrate import simps\n",
    "from numpy import trapz\n",
    "\n",
    "from angstrom import Molecule\n",
    "from wham2d import *\n",
    "from dctst import *\n",
    "from wham_plot import *\n",
    "\n",
    "%matplotlib inline"
   ]
  },
  {
   "cell_type": "markdown",
   "metadata": {},
   "source": [
    "## WHAM 2-D\n",
    "Analyze WHAM-2D data."
   ]
  },
  {
   "cell_type": "code",
   "execution_count": 3,
   "metadata": {},
   "outputs": [],
   "source": [
    "SCAN = 'DC_Cu110'\n",
    "SCANDIR = '/home/kutay/Documents/git/Nanocar/surface-scan'\n",
    "DATADIR = os.path.join(SCANDIR, 'analysis', 'data')\n",
    "WHAMDIR = os.path.join(SCANDIR, 'analysis', 'dctst', 'run2d')\n",
    "HIST = dict(x=(21, 26), y=(22, 26))"
   ]
  },
  {
   "cell_type": "code",
   "execution_count": 4,
   "metadata": {},
   "outputs": [],
   "source": [
    "outfile = os.path.join(WHAMDIR, SCAN, 'wham-2d.out')\n",
    "DATA = read_wham_out_list(outfile)"
   ]
  },
  {
   "cell_type": "code",
   "execution_count": 8,
   "metadata": {},
   "outputs": [],
   "source": [
    "allx, ally, weights = [], [], []\n",
    "for i, d in enumerate(DATA):\n",
    "    allx += d['x']\n",
    "    ally += d['y']\n",
    "    weights += d['free']"
   ]
  },
  {
   "cell_type": "code",
   "execution_count": 64,
   "metadata": {},
   "outputs": [],
   "source": [
    "def plot_surface_hist(xdata, ydata, weights=None, cmap='GnBu_r', cmin=None, cmax=None, xlim=(21, 25.8), ylim=(22.3, 26.0), bin_size=(0.1, 0.1), figsize=(5, 4), dpi=200, save=None):\n",
    "    \"\"\"\n",
    "    Plot 2D histogram of molecule position.\n",
    "    \"\"\"\n",
    "    surfatoms1 = [[21.582, 22.8912], [25.179, 22.8912], [21.582, 25.4346], [25.179, 25.4346]]\n",
    "    surfatoms2 = [23.3805, 24.1629]\n",
    "    fig = plt.figure(figsize=figsize, dpi=dpi)\n",
    "    bins = (abs(xlim[1] - xlim[0]) / bin_size[0], abs(ylim[1] - ylim[0]) / bin_size[1])\n",
    "    print('Bins || x: %.2f Å (%.2f) | y: %.2f Å (%.2f)' % (bin_size[0], bins[0], bin_size[1], bins[1]))\n",
    "    h, xedges, yedges, img = plt.hist2d(xdata, ydata, bins=bins, cmap=cmap, weights=weights, cmin=cmin, cmax=cmax)\n",
    "    plt.colorbar()\n",
    "    plt.scatter([i[0] for i in surfatoms1], [i[1] for i in surfatoms1], c='k', alpha=0.7, s=200, edgecolors='w', lw=2)\n",
    "    plt.scatter(surfatoms2[0], surfatoms2[1], c='k', alpha=0.5, s=200, edgecolors='k', lw=2)\n",
    "    plt.xlim(xlim)\n",
    "    plt.ylim(ylim)\n",
    "    if save is not None:\n",
    "        plt.savefig(save, dpi=dpi, transparent=True, bbox_inches='tight')\n",
    "    return h, xedges, yedges"
   ]
  },
  {
   "cell_type": "code",
   "execution_count": 67,
   "metadata": {},
   "outputs": [
    {
     "name": "stdout",
     "output_type": "stream",
     "text": [
      "Bins || x: 0.20 Å (17.98) | y: 0.10 Å (25.43)\n"
     ]
    },
    {
     "data": {
      "image/png": "[encoded data removed]",
      "text/plain": [
       "<Figure size 500x400 with 2 Axes>"
      ]
     },
     "metadata": {},
     "output_type": "display_data"
    }
   ],
   "source": [
    "# xlim=(21.5, 25.3), ylim=(22.8, 25.5)\n",
    "h, x, y = plot_surface_hist(allx, ally, weights=weights, bin_size=(0.2, 0.1), cmap='viridis', xlim=(21.582, 25.179), ylim=(22.8912, 25.4346), dpi=100)"
   ]
  },
  {
   "cell_type": "code",
   "execution_count": null,
   "metadata": {},
   "outputs": [],
   "source": []
  }
 ],
 "metadata": {
  "kernelspec": {
   "display_name": "Python 3",
   "language": "python",
   "name": "python3"
  },
  "language_info": {
   "codemirror_mode": {
    "name": "ipython",
    "version": 3
   },
   "file_extension": ".py",
   "mimetype": "text/x-python",
   "name": "python",
   "nbconvert_exporter": "python",
   "pygments_lexer": "ipython3",
   "version": "3.6.5"
  }
 },
 "nbformat": 4,
 "nbformat_minor": 1
}
