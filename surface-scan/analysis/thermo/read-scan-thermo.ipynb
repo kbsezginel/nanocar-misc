{
 "cells": [
  {
   "cell_type": "code",
   "execution_count": 1,
   "metadata": {},
   "outputs": [],
   "source": [
    "import os\n",
    "from thermof.read import read_log, read_thermo\n",
    "import numpy as np\n",
    "import matplotlib.pyplot as plt\n",
    "%matplotlib inline"
   ]
  },
  {
   "cell_type": "markdown",
   "metadata": {},
   "source": [
    "## Read Scan thermo"
   ]
  },
  {
   "cell_type": "code",
   "execution_count": null,
   "metadata": {},
   "outputs": [],
   "source": [
    "SCAN = 'DC_Cu110'\n",
    "SCANDIR = '/home/kutay/Documents/git/Nanocar/surface-scan'\n",
    "DATADIR = os.path.join(SCANDIR, 'analysis', 'data', SCAN)\n",
    "scanlist = [os.path.join(DATADIR, i) for i in os.listdir(DATADIR)]"
   ]
  },
  {
   "cell_type": "code",
   "execution_count": null,
   "metadata": {},
   "outputs": [],
   "source": [
    "thermo_headers = 'Step Temp Press TotEng E_pair E_mol Fmax Fnorm c_C1[1] c_C1[2] c_C1[3]'\n",
    "thermo_keys = ['step', 'temp', 'press', 'etotal', 'epair', 'emol', 'fmax', 'fnorm', 'x', 'y', 'z']"
   ]
  },
  {
   "cell_type": "markdown",
   "metadata": {},
   "source": [
    "### Read LAMMPS log files"
   ]
  },
  {
   "cell_type": "code",
   "execution_count": null,
   "metadata": {},
   "outputs": [],
   "source": [
    "xidx = 10\n",
    "data = {'x': np.zeros(ny), 'y': np.zeros(ny), 'z': np.zeros(ny), 'x0': np.zeros(ny), 'y0': np.zeros(ny), 'ypos': np.zeros((ny, 1001)),\n",
    "        'emol': np.zeros(ny), 'epair': np.zeros(ny), 'etotal': np.zeros(ny), 'fmax': np.zeros(ny), 'fnorm': np.zeros(ny)}\n",
    "for simdir in scanlist:\n",
    "    xi, yi = [int(i) for i in os.path.basename(simdir).split('-')]\n",
    "    if xi == xidx:\n",
    "        logfile = os.path.join(simdir, 'log.%s' % SCAN)\n",
    "        thermo_data = read_log(logfile, headers=thermo_headers)\n",
    "        thermo = read_thermo(thermo_data, headers=thermo_keys)[0]\n",
    "        for k in ['x', 'y', 'z', 'epair', 'emol']:\n",
    "            data[k][yi] = np.mean(thermo[k])\n",
    "        data['x0'][yi] = thermo['x'][0]\n",
    "        data['y0'][yi] = thermo['y'][0]\n",
    "        data['ypos'][yi] = thermo['y']"
   ]
  },
  {
   "cell_type": "code",
   "execution_count": null,
   "metadata": {},
   "outputs": [],
   "source": [
    "def subplot(plot_fun, plot_args, nrow=1, width=4, height=3, dpi=200, save=None):\n",
    "    n_plots = len(plot_args)\n",
    "    ncol = np.ceil(n_plots / nrow)\n",
    "    figsize = (ncol * width, nrow * height)\n",
    "    fig = plt.figure(figsize=figsize, dpi=dpi)\n",
    "    fig.subplots_adjust(hspace=.5, wspace=.25)\n",
    "    for idx, args in enumerate(plot_args, start=1):\n",
    "        args['ax'] = fig.add_subplot(nrow, ncol, idx)\n",
    "        plot_fun(**args)\n",
    "    if save is not None:\n",
    "        plt.savefig(save, dpi=dpi, transparent=True, bbox_inches='tight')\n",
    "\n",
    "def scatter_plot(x, y, ax, title='', xlabel='', ylabel=''):\n",
    "    ax.scatter(x, y,  c='xkcd:crimson', s=100, alpha=0.6)\n",
    "    ax.set_title(title)\n",
    "    ylims = list(ax.get_ylim())\n",
    "    ax.plot([22.8912, 22.8912], ylims, c='k')\n",
    "    ax.plot([25.4346, 25.4346], ylims, c='k')\n",
    "    ax.plot([24.1629, 24.1629], ylims, 'k--', alpha=0.7)\n",
    "    plt.xlabel(xlabel)\n",
    "    plt.ylabel(ylabel)"
   ]
  },
  {
   "cell_type": "code",
   "execution_count": null,
   "metadata": {},
   "outputs": [],
   "source": [
    "start =  [23.3805, 24.1629, 10]          # Molecule starting position\n",
    "dx, dy, buffer = 0.2, 0.1, 0.2\n",
    "xdist, ydist = 2.0, 1.5\n",
    "ypos = np.arange(start[1] - ydist - buffer, start[1] + ydist + buffer + dy, dy)\n",
    "plot_data = []\n",
    "for yvar in ['x0', 'x', 'y0', 'y', 'z', 'epair']:\n",
    "    plot_data.append(dict(x=ypos, y=data[yvar], title=yvar, xlabel='y (Å)'))"
   ]
  },
  {
   "cell_type": "code",
   "execution_count": null,
   "metadata": {},
   "outputs": [],
   "source": [
    "surfatoms1 = [[21.582, 22.8912], [25.179, 22.8912], [21.582, 25.4346], [25.179, 25.4346]]\n",
    "surfatoms2 = [23.3805, 24.1629]"
   ]
  },
  {
   "cell_type": "code",
   "execution_count": null,
   "metadata": {},
   "outputs": [],
   "source": [
    "subplot(scatter_plot, plot_data)"
   ]
  },
  {
   "cell_type": "markdown",
   "metadata": {},
   "source": [
    "### Position histogram"
   ]
  },
  {
   "cell_type": "code",
   "execution_count": null,
   "metadata": {},
   "outputs": [],
   "source": [
    "from scipy.stats import norm\n",
    "import matplotlib.mlab as mlab"
   ]
  },
  {
   "cell_type": "code",
   "execution_count": null,
   "metadata": {},
   "outputs": [],
   "source": [
    "def plot_hist(data, bins=50, color='b', linestyle='k', alpha=0.7, lw=1.5):\n",
    "    (mu, sigma) = norm.fit(data)\n",
    "    # the histogram of the data\n",
    "    n, bins, patches = plt.hist(data, bins, normed=1, facecolor=color, alpha=alpha)\n",
    "    # add a 'best fit' line\n",
    "    y = mlab.normpdf(bins, mu, sigma)\n",
    "    l = plt.plot(bins, y, linestyle, linewidth=lw)\n",
    "    plt.scatter(data[0], max(y), c='k')"
   ]
  },
  {
   "cell_type": "code",
   "execution_count": null,
   "metadata": {},
   "outputs": [],
   "source": [
    "histdata = data['ypos']\n",
    "fig = plt.figure(figsize=(16, 2.5), dpi=300)\n",
    "for hd in histdata:\n",
    "    plot_hist(hd, alpha=0.25, color='xkcd:crimson')\n",
    "plt.xlabel('y (Å)')\n",
    "# pltfile = os.path.join('/home/kutay/Documents/git/Nanocar/docs/assets/img/dctst', '%s-hist.png' % SCAN)\n",
    "# plt.savefig(pltfile, dpi=300, transparent=True, bbox_inches='tight')\n",
    "# plt.yticks([0, 0.5, 1.0, 1.5])\n",
    "# plt.xlim(22, 26.5)\n",
    "# plt.ylim(0, 1.5)"
   ]
  },
  {
   "cell_type": "code",
   "execution_count": null,
   "metadata": {},
   "outputs": [],
   "source": []
  }
 ],
 "metadata": {
  "kernelspec": {
   "display_name": "Python 3",
   "language": "python",
   "name": "python3"
  },
  "language_info": {
   "codemirror_mode": {
    "name": "ipython",
    "version": 3
   },
   "file_extension": ".py",
   "mimetype": "text/x-python",
   "name": "python",
   "nbconvert_exporter": "python",
   "pygments_lexer": "ipython3",
   "version": "3.6.5"
  }
 },
 "nbformat": 4,
 "nbformat_minor": 1
}
