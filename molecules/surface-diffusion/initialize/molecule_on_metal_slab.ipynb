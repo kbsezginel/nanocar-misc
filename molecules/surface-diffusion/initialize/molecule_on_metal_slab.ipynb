{
 "cells": [
  {
   "cell_type": "code",
   "execution_count": 1,
   "metadata": {
    "collapsed": true
   },
   "outputs": [],
   "source": [
    "import os\n",
    "import ase\n",
    "import yaml\n",
    "from ase.build import fcc111, fcc100, fcc110\n",
    "from moleidoscope.visualize import show\n",
    "from moleidoscope.linker import Linker\n",
    "from xyz2cif import write_cif"
   ]
  },
  {
   "cell_type": "markdown",
   "metadata": {},
   "source": [
    "## Parameters"
   ]
  },
  {
   "cell_type": "code",
   "execution_count": null,
   "metadata": {
    "collapsed": true
   },
   "outputs": [],
   "source": [
    "molecule = 'VL'\n",
    "metal = 'Cu'\n",
    "z_box = 50                    # Length of simulation box in z-direction (A)\n",
    "distance_from_surface = 5     # Distance btw molecule and surface (A)"
   ]
  },
  {
   "cell_type": "code",
   "execution_count": null,
   "metadata": {
    "collapsed": true
   },
   "outputs": [],
   "source": [
    "def ase_to_linker(ase_atoms):\n",
    "    \"\"\" Convert ASE atoms object to Moleidoscope linker object \"\"\"\n",
    "    mol = Linker()\n",
    "    mol.atom_names = list(ase_atoms.get_chemical_symbols())\n",
    "    mol.atom_coors = list(ase_atoms.get_positions())\n",
    "    return mol\n",
    "\n",
    "def read_yaml(yaml_file):\n",
    "    with open(yaml_file, 'r') as yf:\n",
    "        data = yaml.load(yf)\n",
    "    return data"
   ]
  },
  {
   "cell_type": "markdown",
   "metadata": {},
   "source": [
    "## Read surfaces and molecules"
   ]
  },
  {
   "cell_type": "code",
   "execution_count": null,
   "metadata": {
    "collapsed": true
   },
   "outputs": [],
   "source": [
    "mol_dir = '/home/kutay/Documents/git/Nanocar/molecules/surface-diffusion/opt'\n",
    "save_dir = '/home/kutay/Documents/git/Nanocar/molecules/surface-diffusion/initialize/lammps'\n",
    "molecules_info = read_yaml('molecules.yaml')\n",
    "surfaces_info = read_yaml('surfaces.yaml')\n",
    "\n",
    "mol = molecules_info[molecule]\n",
    "surf = surfaces_info[metal]"
   ]
  },
  {
   "cell_type": "markdown",
   "metadata": {},
   "source": [
    "## Metal Slab"
   ]
  },
  {
   "cell_type": "code",
   "execution_count": null,
   "metadata": {},
   "outputs": [],
   "source": [
    "ase_slab = fcc110(metal, a=surf['a'], size=surf['size'], vacuum=surf['vacuum'])\n",
    "l_slab = ase_to_linker(ase_slab)\n",
    "print(ase_slab.cell)\n",
    "print(len(ase_slab.get_chemical_symbols()), 'atoms')"
   ]
  },
  {
   "cell_type": "code",
   "execution_count": null,
   "metadata": {},
   "outputs": [],
   "source": [
    "l_slab.get_center()"
   ]
  },
  {
   "cell_type": "code",
   "execution_count": null,
   "metadata": {
    "collapsed": true
   },
   "outputs": [],
   "source": [
    "# show(cu110)"
   ]
  },
  {
   "cell_type": "markdown",
   "metadata": {},
   "source": [
    "### Aligning the molecule (*xy-plane*)\n",
    "- Each molecule has a list of two atoms to be aligned to *x-axis* and *y-axis*\n",
    "- First we align the vector formed by the first two atoms to *x-axis*.\n",
    "- Then we use the second ector formed by the second set of atoms and align that vector to *y-axis.*\n",
    "- By aligning these vectors the molecule is now aligned to *xy-plane*."
   ]
  },
  {
   "cell_type": "code",
   "execution_count": null,
   "metadata": {},
   "outputs": [],
   "source": [
    "l_mol = Linker(read=os.path.join(mol_dir, '%s.xyz' % molecule))\n",
    "\n",
    "l_mol.vector = l_mol.get_vector(mol['x'][0], mol['x'][1])\n",
    "l_mol = l_mol.align([1, 0, 0])\n",
    "l_mol.center([0, 0, 0])\n",
    "\n",
    "l_mol.vector = l_mol.get_vector(mol['y'][0], mol['y'][1])\n",
    "l_mol = l_mol.align([0, 1, 0])\n",
    "l_mol.center([0, 0, 0])"
   ]
  },
  {
   "cell_type": "code",
   "execution_count": null,
   "metadata": {},
   "outputs": [],
   "source": [
    "# show(l_mol)"
   ]
  },
  {
   "cell_type": "markdown",
   "metadata": {},
   "source": [
    "### Placing aligned molecule on metal surface\n",
    "The aligned molecule will be place 5 Å above the metal surface."
   ]
  },
  {
   "cell_type": "code",
   "execution_count": null,
   "metadata": {
    "collapsed": true
   },
   "outputs": [],
   "source": [
    "# The min z coordinate of molecule, used to make sure molecule is 5 A away from surface\n",
    "mol_z_dist = min([i[2] for i in l_mol.atom_coors])\n",
    "slab_center = l_slab.get_center()\n",
    "l_mol.center(slab_center)\n",
    "l_mol.translate([0, 0, distance_from_surface + ase_slab.cell[2][2] / 2 - mol_z_dist])\n",
    "mol_slab = l_slab.join(l_mol)"
   ]
  },
  {
   "cell_type": "code",
   "execution_count": null,
   "metadata": {},
   "outputs": [],
   "source": [
    "# show(mol_slab)"
   ]
  },
  {
   "cell_type": "markdown",
   "metadata": {},
   "source": [
    "### Save xyz file"
   ]
  },
  {
   "cell_type": "code",
   "execution_count": null,
   "metadata": {},
   "outputs": [],
   "source": [
    "mol_slab.name='%s_%s110' % (molecule, metal)\n",
    "mol_slab.save(file_format='xyz', save_dir=save_dir)"
   ]
  },
  {
   "cell_type": "markdown",
   "metadata": {},
   "source": [
    "### Save as cif file for lammps_interface"
   ]
  },
  {
   "cell_type": "code",
   "execution_count": null,
   "metadata": {
    "collapsed": true
   },
   "outputs": [],
   "source": [
    "# 'BTW_FF', 'Dreiding', 'UFF', 'UFF4MOF', and 'Dubbeldam'\n",
    "force_field = 'UFF'\n",
    "sim_box = [ase_slab.cell[0][0], ase_slab.cell[1][1], z_box, 90, 90, 90]\n",
    "cif_file = os.path.join(save_dir, '%s_%s.cif') % (mol_slab.name, force_field)\n",
    "write_cif(cif_file, mol_slab.atom_names, mol_slab.atom_coors, header=cif_file, cell=sim_box, fractional=True)"
   ]
  },
  {
   "cell_type": "markdown",
   "metadata": {},
   "source": [
    "## Create Lammps simulation files"
   ]
  },
  {
   "cell_type": "code",
   "execution_count": null,
   "metadata": {
    "collapsed": true
   },
   "outputs": [],
   "source": [
    "import os\n",
    "from thermof import Simulation\n",
    "from thermof import Parameters"
   ]
  },
  {
   "cell_type": "code",
   "execution_count": null,
   "metadata": {
    "collapsed": true
   },
   "outputs": [],
   "source": [
    "simpar = Parameters()\n",
    "sim = Simulation(mof=cif_file, parameters=simpar)\n",
    "mof_name = os.path.splitext(os.path.basename(cif_file))[0]\n",
    "sim.simdir = os.path.join(os.path.dirname(cif_file), mof_name)\n",
    "\n",
    "sim.parameters.lammps['force_field'] = force_field\n",
    "sim.parameters.lammps['mol_ff'] = force_field\n",
    "sim.parameters.thermof['fix'] = ['NVT', 'NVE']\n",
    "sim.parameters.thermof['temperature'] = 200\n",
    "sim.parameters.thermof['thermo_style'] = ['step', 'temp', 'press', 'pe', 'etotal', 'epair', 'emol', 'evdwl']\n",
    "sim.parameters.job['scheduler'] = 'slurm'\n",
    "sim.parameters.job['cluster'] = 'smp'\n",
    "sim.parameters.job['nodes'] = 1\n",
    "sim.parameters.job['ppn'] = 24"
   ]
  },
  {
   "cell_type": "code",
   "execution_count": null,
   "metadata": {},
   "outputs": [],
   "source": [
    "sim.initialize()"
   ]
  },
  {
   "cell_type": "code",
   "execution_count": null,
   "metadata": {},
   "outputs": [],
   "source": [
    "from angstrom import Molecule"
   ]
  },
  {
   "cell_type": "code",
   "execution_count": null,
   "metadata": {},
   "outputs": [],
   "source": [
    "mol = Molecule(read=os.path.join(mol_dir, 'PVBA.xyz'))"
   ]
  },
  {
   "cell_type": "code",
   "execution_count": null,
   "metadata": {},
   "outputs": [],
   "source": [
    "v1 = mol.coordinates[6] - mol.coordinates[11]\n",
    "mol.align(v1, [1, 0, 0])"
   ]
  },
  {
   "cell_type": "code",
   "execution_count": null,
   "metadata": {
    "collapsed": true
   },
   "outputs": [],
   "source": [
    "v2 = mol.coordinates[4] - mol.coordinates[7]\n",
    "mol.align(v2, [0, 1, 0])"
   ]
  },
  {
   "cell_type": "code",
   "execution_count": null,
   "metadata": {},
   "outputs": [],
   "source": [
    "mol.write('hey.xyz')"
   ]
  },
  {
   "cell_type": "code",
   "execution_count": null,
   "metadata": {
    "collapsed": true
   },
   "outputs": [],
   "source": []
  }
 ],
 "metadata": {
  "kernelspec": {
   "display_name": "Python 3",
   "language": "python",
   "name": "python3"
  },
  "language_info": {
   "codemirror_mode": {
    "name": "ipython",
    "version": 3
   },
   "file_extension": ".py",
   "mimetype": "text/x-python",
   "name": "python",
   "nbconvert_exporter": "python",
   "pygments_lexer": "ipython3",
   "version": "3.5.2"
  }
 },
 "nbformat": 4,
 "nbformat_minor": 1
}
