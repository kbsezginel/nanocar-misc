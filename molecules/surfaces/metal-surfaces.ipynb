{
 "cells": [
  {
   "cell_type": "code",
   "execution_count": 1,
   "metadata": {
    "collapsed": true
   },
   "outputs": [],
   "source": [
    "import ase\n",
    "from ase.build import fcc111, fcc100, fcc110\n",
    "from moleidoscope.visualize import show\n",
    "from moleidoscope.linker import Linker"
   ]
  },
  {
   "cell_type": "code",
   "execution_count": null,
   "metadata": {
    "collapsed": true
   },
   "outputs": [],
   "source": [
    "def ase_to_linker(ase_atoms):\n",
    "    \"\"\" Convert ASE atoms object to Moleidoscope linker object \"\"\"\n",
    "    mol = Linker()\n",
    "    mol.atom_names = list(ase_atoms.get_chemical_symbols())\n",
    "    mol.atom_coors = list(ase_atoms.get_positions())\n",
    "    return mol\n",
    "\n",
    "cell_size = (10, 15, 5)\n",
    "vacuum = 0.0"
   ]
  },
  {
   "cell_type": "markdown",
   "metadata": {},
   "source": [
    "## Palladium (110) Surface"
   ]
  },
  {
   "cell_type": "code",
   "execution_count": null,
   "metadata": {
    "collapsed": true
   },
   "outputs": [],
   "source": [
    "pd_slab = fcc110('Pd', a=3.597, size=cell_size, vacuum=vacuum)"
   ]
  },
  {
   "cell_type": "code",
   "execution_count": null,
   "metadata": {
    "scrolled": true
   },
   "outputs": [],
   "source": [
    "pd110 = ase_to_linker(pd_slab)\n",
    "show(pd110)"
   ]
  },
  {
   "cell_type": "markdown",
   "metadata": {},
   "source": [
    "## Copper (110) Surface"
   ]
  },
  {
   "cell_type": "code",
   "execution_count": null,
   "metadata": {
    "collapsed": true
   },
   "outputs": [],
   "source": [
    "cu_slab = fcc110('Cu', a=3.908, size=cell_size, vacuum=vacuum)"
   ]
  },
  {
   "cell_type": "code",
   "execution_count": null,
   "metadata": {},
   "outputs": [],
   "source": [
    "cu110 = ase_to_linker(cu_slab)\n",
    "show(cu110)"
   ]
  },
  {
   "cell_type": "markdown",
   "metadata": {},
   "source": [
    "## Gold Surfaces"
   ]
  },
  {
   "cell_type": "code",
   "execution_count": null,
   "metadata": {
    "collapsed": true
   },
   "outputs": [],
   "source": [
    "au111_slab = fcc111('Au', a=4.07825, size=cell_size, vacuum=vacuum, orthogonal=True)\n",
    "au100_slab = fcc100('Au', a=4.07825, size=cell_size, vacuum=vacuum)"
   ]
  },
  {
   "cell_type": "code",
   "execution_count": null,
   "metadata": {},
   "outputs": [],
   "source": [
    "au111 = ase_to_linker(au111_slab)\n",
    "au100 = ase_to_linker(au100_slab)\n",
    "show(au111, au100, distance=(30, 0))"
   ]
  },
  {
   "cell_type": "markdown",
   "metadata": {},
   "source": [
    "## Visualizing all surfaces"
   ]
  },
  {
   "cell_type": "code",
   "execution_count": null,
   "metadata": {},
   "outputs": [],
   "source": [
    "show(pd110, cu110, au111, au100, distance=(50, 0))"
   ]
  },
  {
   "cell_type": "markdown",
   "metadata": {},
   "source": [
    "## Placing molecules on the surface"
   ]
  },
  {
   "cell_type": "markdown",
   "metadata": {},
   "source": [
    "### Aligning Decacylene (*xy-plane*)\n",
    "Original xyz file already has one head (atoms 18 & 19) aligned to *y-axis*.\n",
    "\n",
    "Here I am using the vector between the two opposing atoms in the middle benzene ring that is perpendicular to the head on *y-axis*.\n",
    "\n",
    "By aligning this vector to *x-axis* the molecule is now aligned to *xy-plane*."
   ]
  },
  {
   "cell_type": "code",
   "execution_count": null,
   "metadata": {
    "collapsed": true
   },
   "outputs": [],
   "source": [
    "decacylene = Linker(read='DC-single.xyz')            # Read molecule\n",
    "decacylene.vector = decacylene.get_vector(11, 39)    # Get vector for middle benzene ring atoms\n",
    "dc_align = decacylene.align([1, 0, 0])               # Align molecule on x-axis\n",
    "dc_align.center([0, 0, 0])                           # Center molecule to origin"
   ]
  },
  {
   "cell_type": "code",
   "execution_count": null,
   "metadata": {},
   "outputs": [],
   "source": [
    "show(dc_align, decacylene, distance=[20, 0, 0])"
   ]
  },
  {
   "cell_type": "code",
   "execution_count": null,
   "metadata": {},
   "outputs": [],
   "source": [
    "dc_align.name='DC-align'           # Rename molecule\n",
    "dc_align.save(file_format='xyz')   # Save as xyz file"
   ]
  },
  {
   "cell_type": "markdown",
   "metadata": {},
   "source": [
    "### Placing aligned decacylene on Pd (110) surface\n",
    "I will place the aligned decacylene 10 Å above the Pd (110) surface."
   ]
  },
  {
   "cell_type": "code",
   "execution_count": null,
   "metadata": {
    "collapsed": true
   },
   "outputs": [],
   "source": [
    "slab_center = pd110.get_center()\n",
    "dc_align.center(slab_center)\n",
    "distance_from_surface = 5\n",
    "dc_align.translate([0, 0, distance_from_surface + pd_slab.cell[2][2] / 2])\n",
    "pd110_dc = pd110.join(dc_align)"
   ]
  },
  {
   "cell_type": "code",
   "execution_count": null,
   "metadata": {},
   "outputs": [],
   "source": [
    "show(pd110_dc)"
   ]
  },
  {
   "cell_type": "code",
   "execution_count": null,
   "metadata": {},
   "outputs": [],
   "source": [
    "pd110_dc.name='Pd110_DC'           # Rename molecule\n",
    "pd110_dc.save(file_format='xyz')   # Save as xyz file"
   ]
  },
  {
   "cell_type": "code",
   "execution_count": null,
   "metadata": {},
   "outputs": [],
   "source": [
    "pd110.name='Pd110-cell'           # Rename molecule\n",
    "pd110.save(file_format='xyz')   # Save as xyz file"
   ]
  },
  {
   "cell_type": "code",
   "execution_count": null,
   "metadata": {},
   "outputs": [],
   "source": [
    "pd_slab.cell"
   ]
  },
  {
   "cell_type": "code",
   "execution_count": null,
   "metadata": {
    "collapsed": true
   },
   "outputs": [],
   "source": []
  }
 ],
 "metadata": {
  "kernelspec": {
   "display_name": "Python 3",
   "language": "python",
   "name": "python3"
  },
  "language_info": {
   "codemirror_mode": {
    "name": "ipython",
    "version": 3
   },
   "file_extension": ".py",
   "mimetype": "text/x-python",
   "name": "python",
   "nbconvert_exporter": "python",
   "pygments_lexer": "ipython3",
   "version": "3.5.2"
  }
 },
 "nbformat": 4,
 "nbformat_minor": 1
}
