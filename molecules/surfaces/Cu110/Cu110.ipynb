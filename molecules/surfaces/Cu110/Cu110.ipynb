{
 "cells": [
  {
   "cell_type": "code",
   "execution_count": 1,
   "metadata": {
    "collapsed": true
   },
   "outputs": [],
   "source": [
    "import ase\n",
    "from ase.build import fcc111, fcc100, fcc110\n",
    "from moleidoscope.visualize import show\n",
    "from moleidoscope.linker import Linker\n",
    "from xyz2cif import write_cif"
   ]
  },
  {
   "cell_type": "code",
   "execution_count": null,
   "metadata": {
    "collapsed": true
   },
   "outputs": [],
   "source": [
    "def ase_to_linker(ase_atoms):\n",
    "    \"\"\" Convert ASE atoms object to Moleidoscope linker object \"\"\"\n",
    "    mol = Linker()\n",
    "    mol.atom_names = list(ase_atoms.get_chemical_symbols())\n",
    "    mol.atom_coors = list(ase_atoms.get_positions())\n",
    "    return mol"
   ]
  },
  {
   "cell_type": "markdown",
   "metadata": {},
   "source": [
    "# Parameters"
   ]
  },
  {
   "cell_type": "code",
   "execution_count": null,
   "metadata": {
    "collapsed": true
   },
   "outputs": [],
   "source": [
    "slab_packing = (10, 15, 5)    # Packing of metal slab\n",
    "vacuum = 0.0                  # Vacuum on top of slab (ASE)\n",
    "z_box = 50                    # Length of simulation box in z-direction (A)\n",
    "distance_from_surface = 5     # Distance btw molecule and surface (A)"
   ]
  },
  {
   "cell_type": "markdown",
   "metadata": {},
   "source": [
    "## Cu (110) Slab"
   ]
  },
  {
   "cell_type": "code",
   "execution_count": null,
   "metadata": {
    "collapsed": true
   },
   "outputs": [],
   "source": [
    "cu_slab = fcc110('Cu', a=3.908, size=slab_packing, vacuum=vacuum)\n",
    "cu110 = ase_to_linker(cu_slab)"
   ]
  },
  {
   "cell_type": "code",
   "execution_count": null,
   "metadata": {},
   "outputs": [],
   "source": [
    "# show(cu110)"
   ]
  },
  {
   "cell_type": "markdown",
   "metadata": {},
   "source": [
    "### Aligning Decacylene (*xy-plane*)\n",
    "Original xyz file already has one head (atoms 7 & 8) aligned to *y-axis*.\n",
    "\n",
    "Here I am using the vector between the two opposing atoms in the middle benzene ring that is perpendicular to the head on *y-axis*.\n",
    "\n",
    "By aligning this vector to *x-axis* the molecule is now aligned to *xy-plane*."
   ]
  },
  {
   "cell_type": "code",
   "execution_count": null,
   "metadata": {
    "collapsed": true
   },
   "outputs": [],
   "source": [
    "decacylene = Linker(read='DC-single.xyz')            # Read molecule\n",
    "decacylene.vector = decacylene.get_vector(0, 1)      # Get vector for middle benzene ring atoms\n",
    "dc_align = decacylene.align([1, 0, 0])               # Align molecule on x-axis\n",
    "dc_align.center([0, 0, 0])                           # Center molecule to origin"
   ]
  },
  {
   "cell_type": "code",
   "execution_count": null,
   "metadata": {},
   "outputs": [],
   "source": [
    "# show(dc_align, decacylene, distance=[20, 0, 0])"
   ]
  },
  {
   "cell_type": "code",
   "execution_count": null,
   "metadata": {},
   "outputs": [],
   "source": [
    "dc_align.name='DC-align'           # Rename molecule\n",
    "dc_align.save(file_format='xyz')   # Save as xyz file"
   ]
  },
  {
   "cell_type": "markdown",
   "metadata": {},
   "source": [
    "### Placing aligned decacylene on Cu (110) surface\n",
    "I will place the aligned decacylene 5 Å above the Cu (110) surface."
   ]
  },
  {
   "cell_type": "code",
   "execution_count": null,
   "metadata": {},
   "outputs": [],
   "source": [
    "slab_center = cu110.get_center()\n",
    "dc_align.center(slab_center)\n",
    "dc_align.translate([0, 0, distance_from_surface + cu_slab.cell[2][2] / 2])\n",
    "cu110_dc = cu110.join(dc_align)"
   ]
  },
  {
   "cell_type": "code",
   "execution_count": null,
   "metadata": {},
   "outputs": [],
   "source": [
    "show(cu110_dc)"
   ]
  },
  {
   "cell_type": "code",
   "execution_count": null,
   "metadata": {},
   "outputs": [],
   "source": [
    "cu110_dc.name='DC_Cu110'           # Rename molecule\n",
    "cu110_dc.save(file_format='xyz')   # Save as xyz file"
   ]
  },
  {
   "cell_type": "markdown",
   "metadata": {},
   "source": [
    "## Create cif file"
   ]
  },
  {
   "cell_type": "code",
   "execution_count": null,
   "metadata": {},
   "outputs": [],
   "source": [
    "cif_file = 'DC_Cu110.cif'\n",
    "sim_box = [cu_slab.cell[0][0], cu_slab.cell[1][1], z_box, 90, 90, 90]\n",
    "write_cif(cif_file, cu110_dc.atom_names, cu110_dc.atom_coors, header=cif_file, cell=sim_box, fractional=True)"
   ]
  },
  {
   "cell_type": "markdown",
   "metadata": {},
   "source": [
    "## Create Lammps simulation files"
   ]
  },
  {
   "cell_type": "code",
   "execution_count": null,
   "metadata": {
    "collapsed": true
   },
   "outputs": [],
   "source": []
  }
 ],
 "metadata": {
  "kernelspec": {
   "display_name": "Python 3",
   "language": "python",
   "name": "python3"
  },
  "language_info": {
   "codemirror_mode": {
    "name": "ipython",
    "version": 3
   },
   "file_extension": ".py",
   "mimetype": "text/x-python",
   "name": "python",
   "nbconvert_exporter": "python",
   "pygments_lexer": "ipython3",
   "version": "3.5.2"
  }
 },
 "nbformat": 4,
 "nbformat_minor": 1
}
